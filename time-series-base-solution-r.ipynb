{
 "cells": [
  {
   "cell_type": "markdown",
   "id": "43037f7b",
   "metadata": {
    "papermill": {
     "duration": 0.011254,
     "end_time": "2022-11-22T23:06:56.652236",
     "exception": false,
     "start_time": "2022-11-22T23:06:56.640982",
     "status": "completed"
    },
    "tags": []
   },
   "source": [
    "# 1. Importing Libraries"
   ]
  },
  {
   "cell_type": "code",
   "execution_count": 1,
   "id": "71af00bf",
   "metadata": {
    "execution": {
     "iopub.execute_input": "2022-11-22T23:06:56.676107Z",
     "iopub.status.busy": "2022-11-22T23:06:56.672918Z",
     "iopub.status.idle": "2022-11-22T23:06:58.619243Z",
     "shell.execute_reply": "2022-11-22T23:06:58.616379Z"
    },
    "papermill": {
     "duration": 1.961192,
     "end_time": "2022-11-22T23:06:58.622063",
     "exception": false,
     "start_time": "2022-11-22T23:06:56.660871",
     "status": "completed"
    },
    "tags": []
   },
   "outputs": [
    {
     "name": "stderr",
     "output_type": "stream",
     "text": [
      "\n",
      "Attaching package: ‘dplyr’\n",
      "\n",
      "\n",
      "The following objects are masked from ‘package:stats’:\n",
      "\n",
      "    filter, lag\n",
      "\n",
      "\n",
      "The following objects are masked from ‘package:base’:\n",
      "\n",
      "    intersect, setdiff, setequal, union\n",
      "\n",
      "\n",
      "Registered S3 method overwritten by 'quantmod':\n",
      "  method            from\n",
      "  as.zoo.data.frame zoo \n",
      "\n",
      "\n",
      "Attaching package: ‘forecast’\n",
      "\n",
      "\n",
      "The following object is masked from ‘package:Metrics’:\n",
      "\n",
      "    accuracy\n",
      "\n",
      "\n",
      "Loading required package: Rcpp\n",
      "\n",
      "Loading required package: rlang\n",
      "\n",
      "\n",
      "Attaching package: ‘rlang’\n",
      "\n",
      "\n",
      "The following object is masked from ‘package:Metrics’:\n",
      "\n",
      "    ll\n",
      "\n",
      "\n"
     ]
    }
   ],
   "source": [
    "library(dplyr)\n",
    "library(padr)\n",
    "library(Metrics)\n",
    "library(tseries)\n",
    "library(forecast)\n",
    "library(prophet)"
   ]
  },
  {
   "cell_type": "markdown",
   "id": "ee4796c6",
   "metadata": {
    "papermill": {
     "duration": 0.00928,
     "end_time": "2022-11-22T23:06:58.640780",
     "exception": false,
     "start_time": "2022-11-22T23:06:58.631500",
     "status": "completed"
    },
    "tags": []
   },
   "source": [
    "# 2. Importing Data"
   ]
  },
  {
   "cell_type": "code",
   "execution_count": 2,
   "id": "54986c02",
   "metadata": {
    "execution": {
     "iopub.execute_input": "2022-11-22T23:06:58.696656Z",
     "iopub.status.busy": "2022-11-22T23:06:58.662418Z",
     "iopub.status.idle": "2022-11-22T23:06:58.749099Z",
     "shell.execute_reply": "2022-11-22T23:06:58.746955Z"
    },
    "papermill": {
     "duration": 0.101616,
     "end_time": "2022-11-22T23:06:58.751706",
     "exception": false,
     "start_time": "2022-11-22T23:06:58.650090",
     "status": "completed"
    },
    "tags": []
   },
   "outputs": [],
   "source": [
    "train <- read.csv(\"../input/ipba-13-unext-jigsaw-time-series-forecasting-png/train.csv\")\n",
    "test <- read.csv(\"../input/ipba-13-unext-jigsaw-time-series-forecasting-png/test.csv\")\n",
    "ss <- read.csv(\"../input/ipba-13-unext-jigsaw-time-series-forecasting-png/sample_submission.csv\")\n",
    "holidays <- read.csv(\"../input/ipba-13-unext-jigsaw-time-series-forecasting-png/holidays.csv\")"
   ]
  },
  {
   "cell_type": "markdown",
   "id": "1a4f5f39",
   "metadata": {
    "papermill": {
     "duration": 0.009187,
     "end_time": "2022-11-22T23:06:58.770204",
     "exception": false,
     "start_time": "2022-11-22T23:06:58.761017",
     "status": "completed"
    },
    "tags": []
   },
   "source": [
    "# 3. Checking Data"
   ]
  },
  {
   "cell_type": "code",
   "execution_count": 3,
   "id": "79528bcc",
   "metadata": {
    "execution": {
     "iopub.execute_input": "2022-11-22T23:06:58.793531Z",
     "iopub.status.busy": "2022-11-22T23:06:58.791676Z",
     "iopub.status.idle": "2022-11-22T23:06:58.946266Z",
     "shell.execute_reply": "2022-11-22T23:06:58.944290Z"
    },
    "papermill": {
     "duration": 0.169711,
     "end_time": "2022-11-22T23:06:58.948825",
     "exception": false,
     "start_time": "2022-11-22T23:06:58.779114",
     "status": "completed"
    },
    "tags": []
   },
   "outputs": [
    {
     "data": {
      "text/html": [
       "<table class=\"dataframe\">\n",
       "<caption>A data.frame: 6 × 2</caption>\n",
       "<thead>\n",
       "\t<tr><th></th><th scope=col>date</th><th scope=col>transactions</th></tr>\n",
       "\t<tr><th></th><th scope=col>&lt;chr&gt;</th><th scope=col>&lt;int&gt;</th></tr>\n",
       "</thead>\n",
       "<tbody>\n",
       "\t<tr><th scope=row>1</th><td>01-01-2013</td><td>  770</td></tr>\n",
       "\t<tr><th scope=row>2</th><td>02-01-2013</td><td>93215</td></tr>\n",
       "\t<tr><th scope=row>3</th><td>03-01-2013</td><td>78504</td></tr>\n",
       "\t<tr><th scope=row>4</th><td>04-01-2013</td><td>78494</td></tr>\n",
       "\t<tr><th scope=row>5</th><td>05-01-2013</td><td>93573</td></tr>\n",
       "\t<tr><th scope=row>6</th><td>06-01-2013</td><td>90464</td></tr>\n",
       "</tbody>\n",
       "</table>\n"
      ],
      "text/latex": [
       "A data.frame: 6 × 2\n",
       "\\begin{tabular}{r|ll}\n",
       "  & date & transactions\\\\\n",
       "  & <chr> & <int>\\\\\n",
       "\\hline\n",
       "\t1 & 01-01-2013 &   770\\\\\n",
       "\t2 & 02-01-2013 & 93215\\\\\n",
       "\t3 & 03-01-2013 & 78504\\\\\n",
       "\t4 & 04-01-2013 & 78494\\\\\n",
       "\t5 & 05-01-2013 & 93573\\\\\n",
       "\t6 & 06-01-2013 & 90464\\\\\n",
       "\\end{tabular}\n"
      ],
      "text/markdown": [
       "\n",
       "A data.frame: 6 × 2\n",
       "\n",
       "| <!--/--> | date &lt;chr&gt; | transactions &lt;int&gt; |\n",
       "|---|---|---|\n",
       "| 1 | 01-01-2013 |   770 |\n",
       "| 2 | 02-01-2013 | 93215 |\n",
       "| 3 | 03-01-2013 | 78504 |\n",
       "| 4 | 04-01-2013 | 78494 |\n",
       "| 5 | 05-01-2013 | 93573 |\n",
       "| 6 | 06-01-2013 | 90464 |\n",
       "\n"
      ],
      "text/plain": [
       "  date       transactions\n",
       "1 01-01-2013   770       \n",
       "2 02-01-2013 93215       \n",
       "3 03-01-2013 78504       \n",
       "4 04-01-2013 78494       \n",
       "5 05-01-2013 93573       \n",
       "6 06-01-2013 90464       "
      ]
     },
     "metadata": {},
     "output_type": "display_data"
    },
    {
     "data": {
      "text/html": [
       "<table class=\"dataframe\">\n",
       "<caption>A data.frame: 6 × 2</caption>\n",
       "<thead>\n",
       "\t<tr><th></th><th scope=col>date</th><th scope=col>transactions</th></tr>\n",
       "\t<tr><th></th><th scope=col>&lt;chr&gt;</th><th scope=col>&lt;int&gt;</th></tr>\n",
       "</thead>\n",
       "<tbody>\n",
       "\t<tr><th scope=row>1450</th><td>26-12-2016</td><td>105524</td></tr>\n",
       "\t<tr><th scope=row>1451</th><td>27-12-2016</td><td> 95643</td></tr>\n",
       "\t<tr><th scope=row>1452</th><td>28-12-2016</td><td>103717</td></tr>\n",
       "\t<tr><th scope=row>1453</th><td>29-12-2016</td><td>102665</td></tr>\n",
       "\t<tr><th scope=row>1454</th><td>30-12-2016</td><td>127771</td></tr>\n",
       "\t<tr><th scope=row>1455</th><td>31-12-2016</td><td>135568</td></tr>\n",
       "</tbody>\n",
       "</table>\n"
      ],
      "text/latex": [
       "A data.frame: 6 × 2\n",
       "\\begin{tabular}{r|ll}\n",
       "  & date & transactions\\\\\n",
       "  & <chr> & <int>\\\\\n",
       "\\hline\n",
       "\t1450 & 26-12-2016 & 105524\\\\\n",
       "\t1451 & 27-12-2016 &  95643\\\\\n",
       "\t1452 & 28-12-2016 & 103717\\\\\n",
       "\t1453 & 29-12-2016 & 102665\\\\\n",
       "\t1454 & 30-12-2016 & 127771\\\\\n",
       "\t1455 & 31-12-2016 & 135568\\\\\n",
       "\\end{tabular}\n"
      ],
      "text/markdown": [
       "\n",
       "A data.frame: 6 × 2\n",
       "\n",
       "| <!--/--> | date &lt;chr&gt; | transactions &lt;int&gt; |\n",
       "|---|---|---|\n",
       "| 1450 | 26-12-2016 | 105524 |\n",
       "| 1451 | 27-12-2016 |  95643 |\n",
       "| 1452 | 28-12-2016 | 103717 |\n",
       "| 1453 | 29-12-2016 | 102665 |\n",
       "| 1454 | 30-12-2016 | 127771 |\n",
       "| 1455 | 31-12-2016 | 135568 |\n",
       "\n"
      ],
      "text/plain": [
       "     date       transactions\n",
       "1450 26-12-2016 105524      \n",
       "1451 27-12-2016  95643      \n",
       "1452 28-12-2016 103717      \n",
       "1453 29-12-2016 102665      \n",
       "1454 30-12-2016 127771      \n",
       "1455 31-12-2016 135568      "
      ]
     },
     "metadata": {},
     "output_type": "display_data"
    },
    {
     "data": {
      "text/plain": [
       "     date            transactions   \n",
       " Length:1455        Min.   :   770  \n",
       " Class :character   1st Qu.: 75596  \n",
       " Mode  :character   Median : 80387  \n",
       "                    Mean   : 83491  \n",
       "                    3rd Qu.: 90166  \n",
       "                    Max.   :171169  "
      ]
     },
     "metadata": {},
     "output_type": "display_data"
    },
    {
     "data": {
      "text/html": [
       "<table class=\"dataframe\">\n",
       "<caption>A data.frame: 6 × 2</caption>\n",
       "<thead>\n",
       "\t<tr><th></th><th scope=col>date</th><th scope=col>id</th></tr>\n",
       "\t<tr><th></th><th scope=col>&lt;chr&gt;</th><th scope=col>&lt;int&gt;</th></tr>\n",
       "</thead>\n",
       "<tbody>\n",
       "\t<tr><th scope=row>1</th><td>01-01-2017</td><td>0</td></tr>\n",
       "\t<tr><th scope=row>2</th><td>02-01-2017</td><td>1</td></tr>\n",
       "\t<tr><th scope=row>3</th><td>03-01-2017</td><td>2</td></tr>\n",
       "\t<tr><th scope=row>4</th><td>04-01-2017</td><td>3</td></tr>\n",
       "\t<tr><th scope=row>5</th><td>05-01-2017</td><td>4</td></tr>\n",
       "\t<tr><th scope=row>6</th><td>06-01-2017</td><td>5</td></tr>\n",
       "</tbody>\n",
       "</table>\n"
      ],
      "text/latex": [
       "A data.frame: 6 × 2\n",
       "\\begin{tabular}{r|ll}\n",
       "  & date & id\\\\\n",
       "  & <chr> & <int>\\\\\n",
       "\\hline\n",
       "\t1 & 01-01-2017 & 0\\\\\n",
       "\t2 & 02-01-2017 & 1\\\\\n",
       "\t3 & 03-01-2017 & 2\\\\\n",
       "\t4 & 04-01-2017 & 3\\\\\n",
       "\t5 & 05-01-2017 & 4\\\\\n",
       "\t6 & 06-01-2017 & 5\\\\\n",
       "\\end{tabular}\n"
      ],
      "text/markdown": [
       "\n",
       "A data.frame: 6 × 2\n",
       "\n",
       "| <!--/--> | date &lt;chr&gt; | id &lt;int&gt; |\n",
       "|---|---|---|\n",
       "| 1 | 01-01-2017 | 0 |\n",
       "| 2 | 02-01-2017 | 1 |\n",
       "| 3 | 03-01-2017 | 2 |\n",
       "| 4 | 04-01-2017 | 3 |\n",
       "| 5 | 05-01-2017 | 4 |\n",
       "| 6 | 06-01-2017 | 5 |\n",
       "\n"
      ],
      "text/plain": [
       "  date       id\n",
       "1 01-01-2017 0 \n",
       "2 02-01-2017 1 \n",
       "3 03-01-2017 2 \n",
       "4 04-01-2017 3 \n",
       "5 05-01-2017 4 \n",
       "6 06-01-2017 5 "
      ]
     },
     "metadata": {},
     "output_type": "display_data"
    },
    {
     "data": {
      "text/html": [
       "<table class=\"dataframe\">\n",
       "<caption>A data.frame: 6 × 2</caption>\n",
       "<thead>\n",
       "\t<tr><th></th><th scope=col>date</th><th scope=col>id</th></tr>\n",
       "\t<tr><th></th><th scope=col>&lt;chr&gt;</th><th scope=col>&lt;int&gt;</th></tr>\n",
       "</thead>\n",
       "<tbody>\n",
       "\t<tr><th scope=row>222</th><td>10-08-2017</td><td>221</td></tr>\n",
       "\t<tr><th scope=row>223</th><td>11-08-2017</td><td>222</td></tr>\n",
       "\t<tr><th scope=row>224</th><td>12-08-2017</td><td>223</td></tr>\n",
       "\t<tr><th scope=row>225</th><td>13-08-2017</td><td>224</td></tr>\n",
       "\t<tr><th scope=row>226</th><td>14-08-2017</td><td>225</td></tr>\n",
       "\t<tr><th scope=row>227</th><td>15-08-2017</td><td>226</td></tr>\n",
       "</tbody>\n",
       "</table>\n"
      ],
      "text/latex": [
       "A data.frame: 6 × 2\n",
       "\\begin{tabular}{r|ll}\n",
       "  & date & id\\\\\n",
       "  & <chr> & <int>\\\\\n",
       "\\hline\n",
       "\t222 & 10-08-2017 & 221\\\\\n",
       "\t223 & 11-08-2017 & 222\\\\\n",
       "\t224 & 12-08-2017 & 223\\\\\n",
       "\t225 & 13-08-2017 & 224\\\\\n",
       "\t226 & 14-08-2017 & 225\\\\\n",
       "\t227 & 15-08-2017 & 226\\\\\n",
       "\\end{tabular}\n"
      ],
      "text/markdown": [
       "\n",
       "A data.frame: 6 × 2\n",
       "\n",
       "| <!--/--> | date &lt;chr&gt; | id &lt;int&gt; |\n",
       "|---|---|---|\n",
       "| 222 | 10-08-2017 | 221 |\n",
       "| 223 | 11-08-2017 | 222 |\n",
       "| 224 | 12-08-2017 | 223 |\n",
       "| 225 | 13-08-2017 | 224 |\n",
       "| 226 | 14-08-2017 | 225 |\n",
       "| 227 | 15-08-2017 | 226 |\n",
       "\n"
      ],
      "text/plain": [
       "    date       id \n",
       "222 10-08-2017 221\n",
       "223 11-08-2017 222\n",
       "224 12-08-2017 223\n",
       "225 13-08-2017 224\n",
       "226 14-08-2017 225\n",
       "227 15-08-2017 226"
      ]
     },
     "metadata": {},
     "output_type": "display_data"
    },
    {
     "data": {
      "text/plain": [
       "     date                 id       \n",
       " Length:227         Min.   :  0.0  \n",
       " Class :character   1st Qu.: 56.5  \n",
       " Mode  :character   Median :113.0  \n",
       "                    Mean   :113.0  \n",
       "                    3rd Qu.:169.5  \n",
       "                    Max.   :226.0  "
      ]
     },
     "metadata": {},
     "output_type": "display_data"
    },
    {
     "data": {
      "text/html": [
       "<table class=\"dataframe\">\n",
       "<caption>A data.frame: 6 × 2</caption>\n",
       "<thead>\n",
       "\t<tr><th></th><th scope=col>id</th><th scope=col>transactions</th></tr>\n",
       "\t<tr><th></th><th scope=col>&lt;int&gt;</th><th scope=col>&lt;int&gt;</th></tr>\n",
       "</thead>\n",
       "<tbody>\n",
       "\t<tr><th scope=row>1</th><td>0</td><td>70000</td></tr>\n",
       "\t<tr><th scope=row>2</th><td>1</td><td>70000</td></tr>\n",
       "\t<tr><th scope=row>3</th><td>2</td><td>70000</td></tr>\n",
       "\t<tr><th scope=row>4</th><td>3</td><td>70000</td></tr>\n",
       "\t<tr><th scope=row>5</th><td>4</td><td>70000</td></tr>\n",
       "\t<tr><th scope=row>6</th><td>5</td><td>70000</td></tr>\n",
       "</tbody>\n",
       "</table>\n"
      ],
      "text/latex": [
       "A data.frame: 6 × 2\n",
       "\\begin{tabular}{r|ll}\n",
       "  & id & transactions\\\\\n",
       "  & <int> & <int>\\\\\n",
       "\\hline\n",
       "\t1 & 0 & 70000\\\\\n",
       "\t2 & 1 & 70000\\\\\n",
       "\t3 & 2 & 70000\\\\\n",
       "\t4 & 3 & 70000\\\\\n",
       "\t5 & 4 & 70000\\\\\n",
       "\t6 & 5 & 70000\\\\\n",
       "\\end{tabular}\n"
      ],
      "text/markdown": [
       "\n",
       "A data.frame: 6 × 2\n",
       "\n",
       "| <!--/--> | id &lt;int&gt; | transactions &lt;int&gt; |\n",
       "|---|---|---|\n",
       "| 1 | 0 | 70000 |\n",
       "| 2 | 1 | 70000 |\n",
       "| 3 | 2 | 70000 |\n",
       "| 4 | 3 | 70000 |\n",
       "| 5 | 4 | 70000 |\n",
       "| 6 | 5 | 70000 |\n",
       "\n"
      ],
      "text/plain": [
       "  id transactions\n",
       "1 0  70000       \n",
       "2 1  70000       \n",
       "3 2  70000       \n",
       "4 3  70000       \n",
       "5 4  70000       \n",
       "6 5  70000       "
      ]
     },
     "metadata": {},
     "output_type": "display_data"
    },
    {
     "data": {
      "text/html": [
       "<table class=\"dataframe\">\n",
       "<caption>A data.frame: 6 × 2</caption>\n",
       "<thead>\n",
       "\t<tr><th></th><th scope=col>id</th><th scope=col>transactions</th></tr>\n",
       "\t<tr><th></th><th scope=col>&lt;int&gt;</th><th scope=col>&lt;int&gt;</th></tr>\n",
       "</thead>\n",
       "<tbody>\n",
       "\t<tr><th scope=row>222</th><td>221</td><td>70000</td></tr>\n",
       "\t<tr><th scope=row>223</th><td>222</td><td>70000</td></tr>\n",
       "\t<tr><th scope=row>224</th><td>223</td><td>70000</td></tr>\n",
       "\t<tr><th scope=row>225</th><td>224</td><td>70000</td></tr>\n",
       "\t<tr><th scope=row>226</th><td>225</td><td>70000</td></tr>\n",
       "\t<tr><th scope=row>227</th><td>226</td><td>70000</td></tr>\n",
       "</tbody>\n",
       "</table>\n"
      ],
      "text/latex": [
       "A data.frame: 6 × 2\n",
       "\\begin{tabular}{r|ll}\n",
       "  & id & transactions\\\\\n",
       "  & <int> & <int>\\\\\n",
       "\\hline\n",
       "\t222 & 221 & 70000\\\\\n",
       "\t223 & 222 & 70000\\\\\n",
       "\t224 & 223 & 70000\\\\\n",
       "\t225 & 224 & 70000\\\\\n",
       "\t226 & 225 & 70000\\\\\n",
       "\t227 & 226 & 70000\\\\\n",
       "\\end{tabular}\n"
      ],
      "text/markdown": [
       "\n",
       "A data.frame: 6 × 2\n",
       "\n",
       "| <!--/--> | id &lt;int&gt; | transactions &lt;int&gt; |\n",
       "|---|---|---|\n",
       "| 222 | 221 | 70000 |\n",
       "| 223 | 222 | 70000 |\n",
       "| 224 | 223 | 70000 |\n",
       "| 225 | 224 | 70000 |\n",
       "| 226 | 225 | 70000 |\n",
       "| 227 | 226 | 70000 |\n",
       "\n"
      ],
      "text/plain": [
       "    id  transactions\n",
       "222 221 70000       \n",
       "223 222 70000       \n",
       "224 223 70000       \n",
       "225 224 70000       \n",
       "226 225 70000       \n",
       "227 226 70000       "
      ]
     },
     "metadata": {},
     "output_type": "display_data"
    },
    {
     "data": {
      "text/plain": [
       "       id         transactions  \n",
       " Min.   :  0.0   Min.   :70000  \n",
       " 1st Qu.: 56.5   1st Qu.:70000  \n",
       " Median :113.0   Median :70000  \n",
       " Mean   :113.0   Mean   :70000  \n",
       " 3rd Qu.:169.5   3rd Qu.:70000  \n",
       " Max.   :226.0   Max.   :70000  "
      ]
     },
     "metadata": {},
     "output_type": "display_data"
    },
    {
     "data": {
      "text/html": [
       "<table class=\"dataframe\">\n",
       "<caption>A data.frame: 6 × 2</caption>\n",
       "<thead>\n",
       "\t<tr><th></th><th scope=col>Date</th><th scope=col>Holidays</th></tr>\n",
       "\t<tr><th></th><th scope=col>&lt;chr&gt;</th><th scope=col>&lt;int&gt;</th></tr>\n",
       "</thead>\n",
       "<tbody>\n",
       "\t<tr><th scope=row>1</th><td>02-03-2012</td><td>1</td></tr>\n",
       "\t<tr><th scope=row>2</th><td>01-04-2012</td><td>1</td></tr>\n",
       "\t<tr><th scope=row>3</th><td>12-04-2012</td><td>1</td></tr>\n",
       "\t<tr><th scope=row>4</th><td>14-04-2012</td><td>1</td></tr>\n",
       "\t<tr><th scope=row>5</th><td>21-04-2012</td><td>1</td></tr>\n",
       "\t<tr><th scope=row>6</th><td>12-05-2012</td><td>1</td></tr>\n",
       "</tbody>\n",
       "</table>\n"
      ],
      "text/latex": [
       "A data.frame: 6 × 2\n",
       "\\begin{tabular}{r|ll}\n",
       "  & Date & Holidays\\\\\n",
       "  & <chr> & <int>\\\\\n",
       "\\hline\n",
       "\t1 & 02-03-2012 & 1\\\\\n",
       "\t2 & 01-04-2012 & 1\\\\\n",
       "\t3 & 12-04-2012 & 1\\\\\n",
       "\t4 & 14-04-2012 & 1\\\\\n",
       "\t5 & 21-04-2012 & 1\\\\\n",
       "\t6 & 12-05-2012 & 1\\\\\n",
       "\\end{tabular}\n"
      ],
      "text/markdown": [
       "\n",
       "A data.frame: 6 × 2\n",
       "\n",
       "| <!--/--> | Date &lt;chr&gt; | Holidays &lt;int&gt; |\n",
       "|---|---|---|\n",
       "| 1 | 02-03-2012 | 1 |\n",
       "| 2 | 01-04-2012 | 1 |\n",
       "| 3 | 12-04-2012 | 1 |\n",
       "| 4 | 14-04-2012 | 1 |\n",
       "| 5 | 21-04-2012 | 1 |\n",
       "| 6 | 12-05-2012 | 1 |\n",
       "\n"
      ],
      "text/plain": [
       "  Date       Holidays\n",
       "1 02-03-2012 1       \n",
       "2 01-04-2012 1       \n",
       "3 12-04-2012 1       \n",
       "4 14-04-2012 1       \n",
       "5 21-04-2012 1       \n",
       "6 12-05-2012 1       "
      ]
     },
     "metadata": {},
     "output_type": "display_data"
    },
    {
     "data": {
      "text/html": [
       "<table class=\"dataframe\">\n",
       "<caption>A data.frame: 6 × 2</caption>\n",
       "<thead>\n",
       "\t<tr><th></th><th scope=col>Date</th><th scope=col>Holidays</th></tr>\n",
       "\t<tr><th></th><th scope=col>&lt;chr&gt;</th><th scope=col>&lt;int&gt;</th></tr>\n",
       "</thead>\n",
       "<tbody>\n",
       "\t<tr><th scope=row>307</th><td>21-12-2017</td><td>1</td></tr>\n",
       "\t<tr><th scope=row>308</th><td>22-12-2017</td><td>2</td></tr>\n",
       "\t<tr><th scope=row>309</th><td>23-12-2017</td><td>1</td></tr>\n",
       "\t<tr><th scope=row>310</th><td>24-12-2017</td><td>1</td></tr>\n",
       "\t<tr><th scope=row>311</th><td>25-12-2017</td><td>1</td></tr>\n",
       "\t<tr><th scope=row>312</th><td>26-12-2017</td><td>1</td></tr>\n",
       "</tbody>\n",
       "</table>\n"
      ],
      "text/latex": [
       "A data.frame: 6 × 2\n",
       "\\begin{tabular}{r|ll}\n",
       "  & Date & Holidays\\\\\n",
       "  & <chr> & <int>\\\\\n",
       "\\hline\n",
       "\t307 & 21-12-2017 & 1\\\\\n",
       "\t308 & 22-12-2017 & 2\\\\\n",
       "\t309 & 23-12-2017 & 1\\\\\n",
       "\t310 & 24-12-2017 & 1\\\\\n",
       "\t311 & 25-12-2017 & 1\\\\\n",
       "\t312 & 26-12-2017 & 1\\\\\n",
       "\\end{tabular}\n"
      ],
      "text/markdown": [
       "\n",
       "A data.frame: 6 × 2\n",
       "\n",
       "| <!--/--> | Date &lt;chr&gt; | Holidays &lt;int&gt; |\n",
       "|---|---|---|\n",
       "| 307 | 21-12-2017 | 1 |\n",
       "| 308 | 22-12-2017 | 2 |\n",
       "| 309 | 23-12-2017 | 1 |\n",
       "| 310 | 24-12-2017 | 1 |\n",
       "| 311 | 25-12-2017 | 1 |\n",
       "| 312 | 26-12-2017 | 1 |\n",
       "\n"
      ],
      "text/plain": [
       "    Date       Holidays\n",
       "307 21-12-2017 1       \n",
       "308 22-12-2017 2       \n",
       "309 23-12-2017 1       \n",
       "310 24-12-2017 1       \n",
       "311 25-12-2017 1       \n",
       "312 26-12-2017 1       "
      ]
     },
     "metadata": {},
     "output_type": "display_data"
    },
    {
     "data": {
      "text/plain": [
       "     Date              Holidays    \n",
       " Length:312         Min.   :1.000  \n",
       " Class :character   1st Qu.:1.000  \n",
       " Mode  :character   Median :1.000  \n",
       "                    Mean   :1.122  \n",
       "                    3rd Qu.:1.000  \n",
       "                    Max.   :4.000  "
      ]
     },
     "metadata": {},
     "output_type": "display_data"
    }
   ],
   "source": [
    "head(train)\n",
    "tail(train)\n",
    "summary(train)\n",
    "\n",
    "head(test)\n",
    "tail(test)\n",
    "summary(test)\n",
    "\n",
    "head(ss)\n",
    "tail(ss)\n",
    "summary(ss)\n",
    "\n",
    "head(holidays)\n",
    "tail(holidays)\n",
    "summary(holidays)"
   ]
  },
  {
   "cell_type": "markdown",
   "id": "76a7d149",
   "metadata": {
    "papermill": {
     "duration": 0.011336,
     "end_time": "2022-11-22T23:06:58.971610",
     "exception": false,
     "start_time": "2022-11-22T23:06:58.960274",
     "status": "completed"
    },
    "tags": []
   },
   "source": [
    "# 4. Missing Values Treatment"
   ]
  },
  {
   "cell_type": "code",
   "execution_count": 4,
   "id": "5cb80afe",
   "metadata": {
    "collapsed": true,
    "execution": {
     "iopub.execute_input": "2022-11-22T23:06:58.997746Z",
     "iopub.status.busy": "2022-11-22T23:06:58.995807Z",
     "iopub.status.idle": "2022-11-22T23:06:59.196291Z",
     "shell.execute_reply": "2022-11-22T23:06:59.193563Z"
    },
    "jupyter": {
     "outputs_hidden": true
    },
    "papermill": {
     "duration": 0.217027,
     "end_time": "2022-11-22T23:06:59.199671",
     "exception": false,
     "start_time": "2022-11-22T23:06:58.982644",
     "status": "completed"
    },
    "tags": []
   },
   "outputs": [
    {
     "data": {
      "text/html": [
       "<table class=\"dataframe\">\n",
       "<caption>A matrix: 1455 × 2 of type lgl</caption>\n",
       "<thead>\n",
       "\t<tr><th scope=col>date</th><th scope=col>transactions</th></tr>\n",
       "</thead>\n",
       "<tbody>\n",
       "\t<tr><td>FALSE</td><td>FALSE</td></tr>\n",
       "\t<tr><td>FALSE</td><td>FALSE</td></tr>\n",
       "\t<tr><td>FALSE</td><td>FALSE</td></tr>\n",
       "\t<tr><td>FALSE</td><td>FALSE</td></tr>\n",
       "\t<tr><td>FALSE</td><td>FALSE</td></tr>\n",
       "\t<tr><td>FALSE</td><td>FALSE</td></tr>\n",
       "\t<tr><td>FALSE</td><td>FALSE</td></tr>\n",
       "\t<tr><td>FALSE</td><td>FALSE</td></tr>\n",
       "\t<tr><td>FALSE</td><td>FALSE</td></tr>\n",
       "\t<tr><td>FALSE</td><td>FALSE</td></tr>\n",
       "\t<tr><td>FALSE</td><td>FALSE</td></tr>\n",
       "\t<tr><td>FALSE</td><td>FALSE</td></tr>\n",
       "\t<tr><td>FALSE</td><td>FALSE</td></tr>\n",
       "\t<tr><td>FALSE</td><td>FALSE</td></tr>\n",
       "\t<tr><td>FALSE</td><td>FALSE</td></tr>\n",
       "\t<tr><td>FALSE</td><td>FALSE</td></tr>\n",
       "\t<tr><td>FALSE</td><td>FALSE</td></tr>\n",
       "\t<tr><td>FALSE</td><td>FALSE</td></tr>\n",
       "\t<tr><td>FALSE</td><td>FALSE</td></tr>\n",
       "\t<tr><td>FALSE</td><td>FALSE</td></tr>\n",
       "\t<tr><td>FALSE</td><td>FALSE</td></tr>\n",
       "\t<tr><td>FALSE</td><td>FALSE</td></tr>\n",
       "\t<tr><td>FALSE</td><td>FALSE</td></tr>\n",
       "\t<tr><td>FALSE</td><td>FALSE</td></tr>\n",
       "\t<tr><td>FALSE</td><td>FALSE</td></tr>\n",
       "\t<tr><td>FALSE</td><td>FALSE</td></tr>\n",
       "\t<tr><td>FALSE</td><td>FALSE</td></tr>\n",
       "\t<tr><td>FALSE</td><td>FALSE</td></tr>\n",
       "\t<tr><td>FALSE</td><td>FALSE</td></tr>\n",
       "\t<tr><td>FALSE</td><td>FALSE</td></tr>\n",
       "\t<tr><td>⋮</td><td>⋮</td></tr>\n",
       "\t<tr><td>FALSE</td><td>FALSE</td></tr>\n",
       "\t<tr><td>FALSE</td><td>FALSE</td></tr>\n",
       "\t<tr><td>FALSE</td><td>FALSE</td></tr>\n",
       "\t<tr><td>FALSE</td><td>FALSE</td></tr>\n",
       "\t<tr><td>FALSE</td><td>FALSE</td></tr>\n",
       "\t<tr><td>FALSE</td><td>FALSE</td></tr>\n",
       "\t<tr><td>FALSE</td><td>FALSE</td></tr>\n",
       "\t<tr><td>FALSE</td><td>FALSE</td></tr>\n",
       "\t<tr><td>FALSE</td><td>FALSE</td></tr>\n",
       "\t<tr><td>FALSE</td><td>FALSE</td></tr>\n",
       "\t<tr><td>FALSE</td><td>FALSE</td></tr>\n",
       "\t<tr><td>FALSE</td><td>FALSE</td></tr>\n",
       "\t<tr><td>FALSE</td><td>FALSE</td></tr>\n",
       "\t<tr><td>FALSE</td><td>FALSE</td></tr>\n",
       "\t<tr><td>FALSE</td><td>FALSE</td></tr>\n",
       "\t<tr><td>FALSE</td><td>FALSE</td></tr>\n",
       "\t<tr><td>FALSE</td><td>FALSE</td></tr>\n",
       "\t<tr><td>FALSE</td><td>FALSE</td></tr>\n",
       "\t<tr><td>FALSE</td><td>FALSE</td></tr>\n",
       "\t<tr><td>FALSE</td><td>FALSE</td></tr>\n",
       "\t<tr><td>FALSE</td><td>FALSE</td></tr>\n",
       "\t<tr><td>FALSE</td><td>FALSE</td></tr>\n",
       "\t<tr><td>FALSE</td><td>FALSE</td></tr>\n",
       "\t<tr><td>FALSE</td><td>FALSE</td></tr>\n",
       "\t<tr><td>FALSE</td><td>FALSE</td></tr>\n",
       "\t<tr><td>FALSE</td><td>FALSE</td></tr>\n",
       "\t<tr><td>FALSE</td><td>FALSE</td></tr>\n",
       "\t<tr><td>FALSE</td><td>FALSE</td></tr>\n",
       "\t<tr><td>FALSE</td><td>FALSE</td></tr>\n",
       "\t<tr><td>FALSE</td><td>FALSE</td></tr>\n",
       "</tbody>\n",
       "</table>\n"
      ],
      "text/latex": [
       "A matrix: 1455 × 2 of type lgl\n",
       "\\begin{tabular}{ll}\n",
       " date & transactions\\\\\n",
       "\\hline\n",
       "\t FALSE & FALSE\\\\\n",
       "\t FALSE & FALSE\\\\\n",
       "\t FALSE & FALSE\\\\\n",
       "\t FALSE & FALSE\\\\\n",
       "\t FALSE & FALSE\\\\\n",
       "\t FALSE & FALSE\\\\\n",
       "\t FALSE & FALSE\\\\\n",
       "\t FALSE & FALSE\\\\\n",
       "\t FALSE & FALSE\\\\\n",
       "\t FALSE & FALSE\\\\\n",
       "\t FALSE & FALSE\\\\\n",
       "\t FALSE & FALSE\\\\\n",
       "\t FALSE & FALSE\\\\\n",
       "\t FALSE & FALSE\\\\\n",
       "\t FALSE & FALSE\\\\\n",
       "\t FALSE & FALSE\\\\\n",
       "\t FALSE & FALSE\\\\\n",
       "\t FALSE & FALSE\\\\\n",
       "\t FALSE & FALSE\\\\\n",
       "\t FALSE & FALSE\\\\\n",
       "\t FALSE & FALSE\\\\\n",
       "\t FALSE & FALSE\\\\\n",
       "\t FALSE & FALSE\\\\\n",
       "\t FALSE & FALSE\\\\\n",
       "\t FALSE & FALSE\\\\\n",
       "\t FALSE & FALSE\\\\\n",
       "\t FALSE & FALSE\\\\\n",
       "\t FALSE & FALSE\\\\\n",
       "\t FALSE & FALSE\\\\\n",
       "\t FALSE & FALSE\\\\\n",
       "\t ⋮ & ⋮\\\\\n",
       "\t FALSE & FALSE\\\\\n",
       "\t FALSE & FALSE\\\\\n",
       "\t FALSE & FALSE\\\\\n",
       "\t FALSE & FALSE\\\\\n",
       "\t FALSE & FALSE\\\\\n",
       "\t FALSE & FALSE\\\\\n",
       "\t FALSE & FALSE\\\\\n",
       "\t FALSE & FALSE\\\\\n",
       "\t FALSE & FALSE\\\\\n",
       "\t FALSE & FALSE\\\\\n",
       "\t FALSE & FALSE\\\\\n",
       "\t FALSE & FALSE\\\\\n",
       "\t FALSE & FALSE\\\\\n",
       "\t FALSE & FALSE\\\\\n",
       "\t FALSE & FALSE\\\\\n",
       "\t FALSE & FALSE\\\\\n",
       "\t FALSE & FALSE\\\\\n",
       "\t FALSE & FALSE\\\\\n",
       "\t FALSE & FALSE\\\\\n",
       "\t FALSE & FALSE\\\\\n",
       "\t FALSE & FALSE\\\\\n",
       "\t FALSE & FALSE\\\\\n",
       "\t FALSE & FALSE\\\\\n",
       "\t FALSE & FALSE\\\\\n",
       "\t FALSE & FALSE\\\\\n",
       "\t FALSE & FALSE\\\\\n",
       "\t FALSE & FALSE\\\\\n",
       "\t FALSE & FALSE\\\\\n",
       "\t FALSE & FALSE\\\\\n",
       "\t FALSE & FALSE\\\\\n",
       "\\end{tabular}\n"
      ],
      "text/markdown": [
       "\n",
       "A matrix: 1455 × 2 of type lgl\n",
       "\n",
       "| date | transactions |\n",
       "|---|---|\n",
       "| FALSE | FALSE |\n",
       "| FALSE | FALSE |\n",
       "| FALSE | FALSE |\n",
       "| FALSE | FALSE |\n",
       "| FALSE | FALSE |\n",
       "| FALSE | FALSE |\n",
       "| FALSE | FALSE |\n",
       "| FALSE | FALSE |\n",
       "| FALSE | FALSE |\n",
       "| FALSE | FALSE |\n",
       "| FALSE | FALSE |\n",
       "| FALSE | FALSE |\n",
       "| FALSE | FALSE |\n",
       "| FALSE | FALSE |\n",
       "| FALSE | FALSE |\n",
       "| FALSE | FALSE |\n",
       "| FALSE | FALSE |\n",
       "| FALSE | FALSE |\n",
       "| FALSE | FALSE |\n",
       "| FALSE | FALSE |\n",
       "| FALSE | FALSE |\n",
       "| FALSE | FALSE |\n",
       "| FALSE | FALSE |\n",
       "| FALSE | FALSE |\n",
       "| FALSE | FALSE |\n",
       "| FALSE | FALSE |\n",
       "| FALSE | FALSE |\n",
       "| FALSE | FALSE |\n",
       "| FALSE | FALSE |\n",
       "| FALSE | FALSE |\n",
       "| ⋮ | ⋮ |\n",
       "| FALSE | FALSE |\n",
       "| FALSE | FALSE |\n",
       "| FALSE | FALSE |\n",
       "| FALSE | FALSE |\n",
       "| FALSE | FALSE |\n",
       "| FALSE | FALSE |\n",
       "| FALSE | FALSE |\n",
       "| FALSE | FALSE |\n",
       "| FALSE | FALSE |\n",
       "| FALSE | FALSE |\n",
       "| FALSE | FALSE |\n",
       "| FALSE | FALSE |\n",
       "| FALSE | FALSE |\n",
       "| FALSE | FALSE |\n",
       "| FALSE | FALSE |\n",
       "| FALSE | FALSE |\n",
       "| FALSE | FALSE |\n",
       "| FALSE | FALSE |\n",
       "| FALSE | FALSE |\n",
       "| FALSE | FALSE |\n",
       "| FALSE | FALSE |\n",
       "| FALSE | FALSE |\n",
       "| FALSE | FALSE |\n",
       "| FALSE | FALSE |\n",
       "| FALSE | FALSE |\n",
       "| FALSE | FALSE |\n",
       "| FALSE | FALSE |\n",
       "| FALSE | FALSE |\n",
       "| FALSE | FALSE |\n",
       "| FALSE | FALSE |\n",
       "\n"
      ],
      "text/plain": [
       "      date  transactions\n",
       " [1,] FALSE FALSE       \n",
       " [2,] FALSE FALSE       \n",
       " [3,] FALSE FALSE       \n",
       " [4,] FALSE FALSE       \n",
       " [5,] FALSE FALSE       \n",
       " [6,] FALSE FALSE       \n",
       " [7,] FALSE FALSE       \n",
       " [8,] FALSE FALSE       \n",
       " [9,] FALSE FALSE       \n",
       "[10,] FALSE FALSE       \n",
       "[11,] FALSE FALSE       \n",
       "[12,] FALSE FALSE       \n",
       "[13,] FALSE FALSE       \n",
       "[14,] FALSE FALSE       \n",
       "[15,] FALSE FALSE       \n",
       "[16,] FALSE FALSE       \n",
       "[17,] FALSE FALSE       \n",
       "[18,] FALSE FALSE       \n",
       "[19,] FALSE FALSE       \n",
       "[20,] FALSE FALSE       \n",
       "[21,] FALSE FALSE       \n",
       "[22,] FALSE FALSE       \n",
       "[23,] FALSE FALSE       \n",
       "[24,] FALSE FALSE       \n",
       "[25,] FALSE FALSE       \n",
       "[26,] FALSE FALSE       \n",
       "[27,] FALSE FALSE       \n",
       "[28,] FALSE FALSE       \n",
       "[29,] FALSE FALSE       \n",
       "[30,] FALSE FALSE       \n",
       "[31,] ⋮     ⋮           \n",
       "[32,] FALSE FALSE       \n",
       "[33,] FALSE FALSE       \n",
       "[34,] FALSE FALSE       \n",
       "[35,] FALSE FALSE       \n",
       "[36,] FALSE FALSE       \n",
       "[37,] FALSE FALSE       \n",
       "[38,] FALSE FALSE       \n",
       "[39,] FALSE FALSE       \n",
       "[40,] FALSE FALSE       \n",
       "[41,] FALSE FALSE       \n",
       "[42,] FALSE FALSE       \n",
       "[43,] FALSE FALSE       \n",
       "[44,] FALSE FALSE       \n",
       "[45,] FALSE FALSE       \n",
       "[46,] FALSE FALSE       \n",
       "[47,] FALSE FALSE       \n",
       "[48,] FALSE FALSE       \n",
       "[49,] FALSE FALSE       \n",
       "[50,] FALSE FALSE       \n",
       "[51,] FALSE FALSE       \n",
       "[52,] FALSE FALSE       \n",
       "[53,] FALSE FALSE       \n",
       "[54,] FALSE FALSE       \n",
       "[55,] FALSE FALSE       \n",
       "[56,] FALSE FALSE       \n",
       "[57,] FALSE FALSE       \n",
       "[58,] FALSE FALSE       \n",
       "[59,] FALSE FALSE       \n",
       "[60,] FALSE FALSE       \n",
       "[61,] FALSE FALSE       "
      ]
     },
     "metadata": {},
     "output_type": "display_data"
    },
    {
     "data": {
      "text/html": [
       "<table class=\"dataframe\">\n",
       "<caption>A matrix: 227 × 2 of type lgl</caption>\n",
       "<thead>\n",
       "\t<tr><th scope=col>date</th><th scope=col>id</th></tr>\n",
       "</thead>\n",
       "<tbody>\n",
       "\t<tr><td>FALSE</td><td>FALSE</td></tr>\n",
       "\t<tr><td>FALSE</td><td>FALSE</td></tr>\n",
       "\t<tr><td>FALSE</td><td>FALSE</td></tr>\n",
       "\t<tr><td>FALSE</td><td>FALSE</td></tr>\n",
       "\t<tr><td>FALSE</td><td>FALSE</td></tr>\n",
       "\t<tr><td>FALSE</td><td>FALSE</td></tr>\n",
       "\t<tr><td>FALSE</td><td>FALSE</td></tr>\n",
       "\t<tr><td>FALSE</td><td>FALSE</td></tr>\n",
       "\t<tr><td>FALSE</td><td>FALSE</td></tr>\n",
       "\t<tr><td>FALSE</td><td>FALSE</td></tr>\n",
       "\t<tr><td>FALSE</td><td>FALSE</td></tr>\n",
       "\t<tr><td>FALSE</td><td>FALSE</td></tr>\n",
       "\t<tr><td>FALSE</td><td>FALSE</td></tr>\n",
       "\t<tr><td>FALSE</td><td>FALSE</td></tr>\n",
       "\t<tr><td>FALSE</td><td>FALSE</td></tr>\n",
       "\t<tr><td>FALSE</td><td>FALSE</td></tr>\n",
       "\t<tr><td>FALSE</td><td>FALSE</td></tr>\n",
       "\t<tr><td>FALSE</td><td>FALSE</td></tr>\n",
       "\t<tr><td>FALSE</td><td>FALSE</td></tr>\n",
       "\t<tr><td>FALSE</td><td>FALSE</td></tr>\n",
       "\t<tr><td>FALSE</td><td>FALSE</td></tr>\n",
       "\t<tr><td>FALSE</td><td>FALSE</td></tr>\n",
       "\t<tr><td>FALSE</td><td>FALSE</td></tr>\n",
       "\t<tr><td>FALSE</td><td>FALSE</td></tr>\n",
       "\t<tr><td>FALSE</td><td>FALSE</td></tr>\n",
       "\t<tr><td>FALSE</td><td>FALSE</td></tr>\n",
       "\t<tr><td>FALSE</td><td>FALSE</td></tr>\n",
       "\t<tr><td>FALSE</td><td>FALSE</td></tr>\n",
       "\t<tr><td>FALSE</td><td>FALSE</td></tr>\n",
       "\t<tr><td>FALSE</td><td>FALSE</td></tr>\n",
       "\t<tr><td>⋮</td><td>⋮</td></tr>\n",
       "\t<tr><td>FALSE</td><td>FALSE</td></tr>\n",
       "\t<tr><td>FALSE</td><td>FALSE</td></tr>\n",
       "\t<tr><td>FALSE</td><td>FALSE</td></tr>\n",
       "\t<tr><td>FALSE</td><td>FALSE</td></tr>\n",
       "\t<tr><td>FALSE</td><td>FALSE</td></tr>\n",
       "\t<tr><td>FALSE</td><td>FALSE</td></tr>\n",
       "\t<tr><td>FALSE</td><td>FALSE</td></tr>\n",
       "\t<tr><td>FALSE</td><td>FALSE</td></tr>\n",
       "\t<tr><td>FALSE</td><td>FALSE</td></tr>\n",
       "\t<tr><td>FALSE</td><td>FALSE</td></tr>\n",
       "\t<tr><td>FALSE</td><td>FALSE</td></tr>\n",
       "\t<tr><td>FALSE</td><td>FALSE</td></tr>\n",
       "\t<tr><td>FALSE</td><td>FALSE</td></tr>\n",
       "\t<tr><td>FALSE</td><td>FALSE</td></tr>\n",
       "\t<tr><td>FALSE</td><td>FALSE</td></tr>\n",
       "\t<tr><td>FALSE</td><td>FALSE</td></tr>\n",
       "\t<tr><td>FALSE</td><td>FALSE</td></tr>\n",
       "\t<tr><td>FALSE</td><td>FALSE</td></tr>\n",
       "\t<tr><td>FALSE</td><td>FALSE</td></tr>\n",
       "\t<tr><td>FALSE</td><td>FALSE</td></tr>\n",
       "\t<tr><td>FALSE</td><td>FALSE</td></tr>\n",
       "\t<tr><td>FALSE</td><td>FALSE</td></tr>\n",
       "\t<tr><td>FALSE</td><td>FALSE</td></tr>\n",
       "\t<tr><td>FALSE</td><td>FALSE</td></tr>\n",
       "\t<tr><td>FALSE</td><td>FALSE</td></tr>\n",
       "\t<tr><td>FALSE</td><td>FALSE</td></tr>\n",
       "\t<tr><td>FALSE</td><td>FALSE</td></tr>\n",
       "\t<tr><td>FALSE</td><td>FALSE</td></tr>\n",
       "\t<tr><td>FALSE</td><td>FALSE</td></tr>\n",
       "\t<tr><td>FALSE</td><td>FALSE</td></tr>\n",
       "</tbody>\n",
       "</table>\n"
      ],
      "text/latex": [
       "A matrix: 227 × 2 of type lgl\n",
       "\\begin{tabular}{ll}\n",
       " date & id\\\\\n",
       "\\hline\n",
       "\t FALSE & FALSE\\\\\n",
       "\t FALSE & FALSE\\\\\n",
       "\t FALSE & FALSE\\\\\n",
       "\t FALSE & FALSE\\\\\n",
       "\t FALSE & FALSE\\\\\n",
       "\t FALSE & FALSE\\\\\n",
       "\t FALSE & FALSE\\\\\n",
       "\t FALSE & FALSE\\\\\n",
       "\t FALSE & FALSE\\\\\n",
       "\t FALSE & FALSE\\\\\n",
       "\t FALSE & FALSE\\\\\n",
       "\t FALSE & FALSE\\\\\n",
       "\t FALSE & FALSE\\\\\n",
       "\t FALSE & FALSE\\\\\n",
       "\t FALSE & FALSE\\\\\n",
       "\t FALSE & FALSE\\\\\n",
       "\t FALSE & FALSE\\\\\n",
       "\t FALSE & FALSE\\\\\n",
       "\t FALSE & FALSE\\\\\n",
       "\t FALSE & FALSE\\\\\n",
       "\t FALSE & FALSE\\\\\n",
       "\t FALSE & FALSE\\\\\n",
       "\t FALSE & FALSE\\\\\n",
       "\t FALSE & FALSE\\\\\n",
       "\t FALSE & FALSE\\\\\n",
       "\t FALSE & FALSE\\\\\n",
       "\t FALSE & FALSE\\\\\n",
       "\t FALSE & FALSE\\\\\n",
       "\t FALSE & FALSE\\\\\n",
       "\t FALSE & FALSE\\\\\n",
       "\t ⋮ & ⋮\\\\\n",
       "\t FALSE & FALSE\\\\\n",
       "\t FALSE & FALSE\\\\\n",
       "\t FALSE & FALSE\\\\\n",
       "\t FALSE & FALSE\\\\\n",
       "\t FALSE & FALSE\\\\\n",
       "\t FALSE & FALSE\\\\\n",
       "\t FALSE & FALSE\\\\\n",
       "\t FALSE & FALSE\\\\\n",
       "\t FALSE & FALSE\\\\\n",
       "\t FALSE & FALSE\\\\\n",
       "\t FALSE & FALSE\\\\\n",
       "\t FALSE & FALSE\\\\\n",
       "\t FALSE & FALSE\\\\\n",
       "\t FALSE & FALSE\\\\\n",
       "\t FALSE & FALSE\\\\\n",
       "\t FALSE & FALSE\\\\\n",
       "\t FALSE & FALSE\\\\\n",
       "\t FALSE & FALSE\\\\\n",
       "\t FALSE & FALSE\\\\\n",
       "\t FALSE & FALSE\\\\\n",
       "\t FALSE & FALSE\\\\\n",
       "\t FALSE & FALSE\\\\\n",
       "\t FALSE & FALSE\\\\\n",
       "\t FALSE & FALSE\\\\\n",
       "\t FALSE & FALSE\\\\\n",
       "\t FALSE & FALSE\\\\\n",
       "\t FALSE & FALSE\\\\\n",
       "\t FALSE & FALSE\\\\\n",
       "\t FALSE & FALSE\\\\\n",
       "\t FALSE & FALSE\\\\\n",
       "\\end{tabular}\n"
      ],
      "text/markdown": [
       "\n",
       "A matrix: 227 × 2 of type lgl\n",
       "\n",
       "| date | id |\n",
       "|---|---|\n",
       "| FALSE | FALSE |\n",
       "| FALSE | FALSE |\n",
       "| FALSE | FALSE |\n",
       "| FALSE | FALSE |\n",
       "| FALSE | FALSE |\n",
       "| FALSE | FALSE |\n",
       "| FALSE | FALSE |\n",
       "| FALSE | FALSE |\n",
       "| FALSE | FALSE |\n",
       "| FALSE | FALSE |\n",
       "| FALSE | FALSE |\n",
       "| FALSE | FALSE |\n",
       "| FALSE | FALSE |\n",
       "| FALSE | FALSE |\n",
       "| FALSE | FALSE |\n",
       "| FALSE | FALSE |\n",
       "| FALSE | FALSE |\n",
       "| FALSE | FALSE |\n",
       "| FALSE | FALSE |\n",
       "| FALSE | FALSE |\n",
       "| FALSE | FALSE |\n",
       "| FALSE | FALSE |\n",
       "| FALSE | FALSE |\n",
       "| FALSE | FALSE |\n",
       "| FALSE | FALSE |\n",
       "| FALSE | FALSE |\n",
       "| FALSE | FALSE |\n",
       "| FALSE | FALSE |\n",
       "| FALSE | FALSE |\n",
       "| FALSE | FALSE |\n",
       "| ⋮ | ⋮ |\n",
       "| FALSE | FALSE |\n",
       "| FALSE | FALSE |\n",
       "| FALSE | FALSE |\n",
       "| FALSE | FALSE |\n",
       "| FALSE | FALSE |\n",
       "| FALSE | FALSE |\n",
       "| FALSE | FALSE |\n",
       "| FALSE | FALSE |\n",
       "| FALSE | FALSE |\n",
       "| FALSE | FALSE |\n",
       "| FALSE | FALSE |\n",
       "| FALSE | FALSE |\n",
       "| FALSE | FALSE |\n",
       "| FALSE | FALSE |\n",
       "| FALSE | FALSE |\n",
       "| FALSE | FALSE |\n",
       "| FALSE | FALSE |\n",
       "| FALSE | FALSE |\n",
       "| FALSE | FALSE |\n",
       "| FALSE | FALSE |\n",
       "| FALSE | FALSE |\n",
       "| FALSE | FALSE |\n",
       "| FALSE | FALSE |\n",
       "| FALSE | FALSE |\n",
       "| FALSE | FALSE |\n",
       "| FALSE | FALSE |\n",
       "| FALSE | FALSE |\n",
       "| FALSE | FALSE |\n",
       "| FALSE | FALSE |\n",
       "| FALSE | FALSE |\n",
       "\n"
      ],
      "text/plain": [
       "      date  id   \n",
       " [1,] FALSE FALSE\n",
       " [2,] FALSE FALSE\n",
       " [3,] FALSE FALSE\n",
       " [4,] FALSE FALSE\n",
       " [5,] FALSE FALSE\n",
       " [6,] FALSE FALSE\n",
       " [7,] FALSE FALSE\n",
       " [8,] FALSE FALSE\n",
       " [9,] FALSE FALSE\n",
       "[10,] FALSE FALSE\n",
       "[11,] FALSE FALSE\n",
       "[12,] FALSE FALSE\n",
       "[13,] FALSE FALSE\n",
       "[14,] FALSE FALSE\n",
       "[15,] FALSE FALSE\n",
       "[16,] FALSE FALSE\n",
       "[17,] FALSE FALSE\n",
       "[18,] FALSE FALSE\n",
       "[19,] FALSE FALSE\n",
       "[20,] FALSE FALSE\n",
       "[21,] FALSE FALSE\n",
       "[22,] FALSE FALSE\n",
       "[23,] FALSE FALSE\n",
       "[24,] FALSE FALSE\n",
       "[25,] FALSE FALSE\n",
       "[26,] FALSE FALSE\n",
       "[27,] FALSE FALSE\n",
       "[28,] FALSE FALSE\n",
       "[29,] FALSE FALSE\n",
       "[30,] FALSE FALSE\n",
       "[31,] ⋮     ⋮    \n",
       "[32,] FALSE FALSE\n",
       "[33,] FALSE FALSE\n",
       "[34,] FALSE FALSE\n",
       "[35,] FALSE FALSE\n",
       "[36,] FALSE FALSE\n",
       "[37,] FALSE FALSE\n",
       "[38,] FALSE FALSE\n",
       "[39,] FALSE FALSE\n",
       "[40,] FALSE FALSE\n",
       "[41,] FALSE FALSE\n",
       "[42,] FALSE FALSE\n",
       "[43,] FALSE FALSE\n",
       "[44,] FALSE FALSE\n",
       "[45,] FALSE FALSE\n",
       "[46,] FALSE FALSE\n",
       "[47,] FALSE FALSE\n",
       "[48,] FALSE FALSE\n",
       "[49,] FALSE FALSE\n",
       "[50,] FALSE FALSE\n",
       "[51,] FALSE FALSE\n",
       "[52,] FALSE FALSE\n",
       "[53,] FALSE FALSE\n",
       "[54,] FALSE FALSE\n",
       "[55,] FALSE FALSE\n",
       "[56,] FALSE FALSE\n",
       "[57,] FALSE FALSE\n",
       "[58,] FALSE FALSE\n",
       "[59,] FALSE FALSE\n",
       "[60,] FALSE FALSE\n",
       "[61,] FALSE FALSE"
      ]
     },
     "metadata": {},
     "output_type": "display_data"
    },
    {
     "data": {
      "text/html": [
       "<table class=\"dataframe\">\n",
       "<caption>A matrix: 227 × 2 of type lgl</caption>\n",
       "<thead>\n",
       "\t<tr><th scope=col>id</th><th scope=col>transactions</th></tr>\n",
       "</thead>\n",
       "<tbody>\n",
       "\t<tr><td>FALSE</td><td>FALSE</td></tr>\n",
       "\t<tr><td>FALSE</td><td>FALSE</td></tr>\n",
       "\t<tr><td>FALSE</td><td>FALSE</td></tr>\n",
       "\t<tr><td>FALSE</td><td>FALSE</td></tr>\n",
       "\t<tr><td>FALSE</td><td>FALSE</td></tr>\n",
       "\t<tr><td>FALSE</td><td>FALSE</td></tr>\n",
       "\t<tr><td>FALSE</td><td>FALSE</td></tr>\n",
       "\t<tr><td>FALSE</td><td>FALSE</td></tr>\n",
       "\t<tr><td>FALSE</td><td>FALSE</td></tr>\n",
       "\t<tr><td>FALSE</td><td>FALSE</td></tr>\n",
       "\t<tr><td>FALSE</td><td>FALSE</td></tr>\n",
       "\t<tr><td>FALSE</td><td>FALSE</td></tr>\n",
       "\t<tr><td>FALSE</td><td>FALSE</td></tr>\n",
       "\t<tr><td>FALSE</td><td>FALSE</td></tr>\n",
       "\t<tr><td>FALSE</td><td>FALSE</td></tr>\n",
       "\t<tr><td>FALSE</td><td>FALSE</td></tr>\n",
       "\t<tr><td>FALSE</td><td>FALSE</td></tr>\n",
       "\t<tr><td>FALSE</td><td>FALSE</td></tr>\n",
       "\t<tr><td>FALSE</td><td>FALSE</td></tr>\n",
       "\t<tr><td>FALSE</td><td>FALSE</td></tr>\n",
       "\t<tr><td>FALSE</td><td>FALSE</td></tr>\n",
       "\t<tr><td>FALSE</td><td>FALSE</td></tr>\n",
       "\t<tr><td>FALSE</td><td>FALSE</td></tr>\n",
       "\t<tr><td>FALSE</td><td>FALSE</td></tr>\n",
       "\t<tr><td>FALSE</td><td>FALSE</td></tr>\n",
       "\t<tr><td>FALSE</td><td>FALSE</td></tr>\n",
       "\t<tr><td>FALSE</td><td>FALSE</td></tr>\n",
       "\t<tr><td>FALSE</td><td>FALSE</td></tr>\n",
       "\t<tr><td>FALSE</td><td>FALSE</td></tr>\n",
       "\t<tr><td>FALSE</td><td>FALSE</td></tr>\n",
       "\t<tr><td>⋮</td><td>⋮</td></tr>\n",
       "\t<tr><td>FALSE</td><td>FALSE</td></tr>\n",
       "\t<tr><td>FALSE</td><td>FALSE</td></tr>\n",
       "\t<tr><td>FALSE</td><td>FALSE</td></tr>\n",
       "\t<tr><td>FALSE</td><td>FALSE</td></tr>\n",
       "\t<tr><td>FALSE</td><td>FALSE</td></tr>\n",
       "\t<tr><td>FALSE</td><td>FALSE</td></tr>\n",
       "\t<tr><td>FALSE</td><td>FALSE</td></tr>\n",
       "\t<tr><td>FALSE</td><td>FALSE</td></tr>\n",
       "\t<tr><td>FALSE</td><td>FALSE</td></tr>\n",
       "\t<tr><td>FALSE</td><td>FALSE</td></tr>\n",
       "\t<tr><td>FALSE</td><td>FALSE</td></tr>\n",
       "\t<tr><td>FALSE</td><td>FALSE</td></tr>\n",
       "\t<tr><td>FALSE</td><td>FALSE</td></tr>\n",
       "\t<tr><td>FALSE</td><td>FALSE</td></tr>\n",
       "\t<tr><td>FALSE</td><td>FALSE</td></tr>\n",
       "\t<tr><td>FALSE</td><td>FALSE</td></tr>\n",
       "\t<tr><td>FALSE</td><td>FALSE</td></tr>\n",
       "\t<tr><td>FALSE</td><td>FALSE</td></tr>\n",
       "\t<tr><td>FALSE</td><td>FALSE</td></tr>\n",
       "\t<tr><td>FALSE</td><td>FALSE</td></tr>\n",
       "\t<tr><td>FALSE</td><td>FALSE</td></tr>\n",
       "\t<tr><td>FALSE</td><td>FALSE</td></tr>\n",
       "\t<tr><td>FALSE</td><td>FALSE</td></tr>\n",
       "\t<tr><td>FALSE</td><td>FALSE</td></tr>\n",
       "\t<tr><td>FALSE</td><td>FALSE</td></tr>\n",
       "\t<tr><td>FALSE</td><td>FALSE</td></tr>\n",
       "\t<tr><td>FALSE</td><td>FALSE</td></tr>\n",
       "\t<tr><td>FALSE</td><td>FALSE</td></tr>\n",
       "\t<tr><td>FALSE</td><td>FALSE</td></tr>\n",
       "\t<tr><td>FALSE</td><td>FALSE</td></tr>\n",
       "</tbody>\n",
       "</table>\n"
      ],
      "text/latex": [
       "A matrix: 227 × 2 of type lgl\n",
       "\\begin{tabular}{ll}\n",
       " id & transactions\\\\\n",
       "\\hline\n",
       "\t FALSE & FALSE\\\\\n",
       "\t FALSE & FALSE\\\\\n",
       "\t FALSE & FALSE\\\\\n",
       "\t FALSE & FALSE\\\\\n",
       "\t FALSE & FALSE\\\\\n",
       "\t FALSE & FALSE\\\\\n",
       "\t FALSE & FALSE\\\\\n",
       "\t FALSE & FALSE\\\\\n",
       "\t FALSE & FALSE\\\\\n",
       "\t FALSE & FALSE\\\\\n",
       "\t FALSE & FALSE\\\\\n",
       "\t FALSE & FALSE\\\\\n",
       "\t FALSE & FALSE\\\\\n",
       "\t FALSE & FALSE\\\\\n",
       "\t FALSE & FALSE\\\\\n",
       "\t FALSE & FALSE\\\\\n",
       "\t FALSE & FALSE\\\\\n",
       "\t FALSE & FALSE\\\\\n",
       "\t FALSE & FALSE\\\\\n",
       "\t FALSE & FALSE\\\\\n",
       "\t FALSE & FALSE\\\\\n",
       "\t FALSE & FALSE\\\\\n",
       "\t FALSE & FALSE\\\\\n",
       "\t FALSE & FALSE\\\\\n",
       "\t FALSE & FALSE\\\\\n",
       "\t FALSE & FALSE\\\\\n",
       "\t FALSE & FALSE\\\\\n",
       "\t FALSE & FALSE\\\\\n",
       "\t FALSE & FALSE\\\\\n",
       "\t FALSE & FALSE\\\\\n",
       "\t ⋮ & ⋮\\\\\n",
       "\t FALSE & FALSE\\\\\n",
       "\t FALSE & FALSE\\\\\n",
       "\t FALSE & FALSE\\\\\n",
       "\t FALSE & FALSE\\\\\n",
       "\t FALSE & FALSE\\\\\n",
       "\t FALSE & FALSE\\\\\n",
       "\t FALSE & FALSE\\\\\n",
       "\t FALSE & FALSE\\\\\n",
       "\t FALSE & FALSE\\\\\n",
       "\t FALSE & FALSE\\\\\n",
       "\t FALSE & FALSE\\\\\n",
       "\t FALSE & FALSE\\\\\n",
       "\t FALSE & FALSE\\\\\n",
       "\t FALSE & FALSE\\\\\n",
       "\t FALSE & FALSE\\\\\n",
       "\t FALSE & FALSE\\\\\n",
       "\t FALSE & FALSE\\\\\n",
       "\t FALSE & FALSE\\\\\n",
       "\t FALSE & FALSE\\\\\n",
       "\t FALSE & FALSE\\\\\n",
       "\t FALSE & FALSE\\\\\n",
       "\t FALSE & FALSE\\\\\n",
       "\t FALSE & FALSE\\\\\n",
       "\t FALSE & FALSE\\\\\n",
       "\t FALSE & FALSE\\\\\n",
       "\t FALSE & FALSE\\\\\n",
       "\t FALSE & FALSE\\\\\n",
       "\t FALSE & FALSE\\\\\n",
       "\t FALSE & FALSE\\\\\n",
       "\t FALSE & FALSE\\\\\n",
       "\\end{tabular}\n"
      ],
      "text/markdown": [
       "\n",
       "A matrix: 227 × 2 of type lgl\n",
       "\n",
       "| id | transactions |\n",
       "|---|---|\n",
       "| FALSE | FALSE |\n",
       "| FALSE | FALSE |\n",
       "| FALSE | FALSE |\n",
       "| FALSE | FALSE |\n",
       "| FALSE | FALSE |\n",
       "| FALSE | FALSE |\n",
       "| FALSE | FALSE |\n",
       "| FALSE | FALSE |\n",
       "| FALSE | FALSE |\n",
       "| FALSE | FALSE |\n",
       "| FALSE | FALSE |\n",
       "| FALSE | FALSE |\n",
       "| FALSE | FALSE |\n",
       "| FALSE | FALSE |\n",
       "| FALSE | FALSE |\n",
       "| FALSE | FALSE |\n",
       "| FALSE | FALSE |\n",
       "| FALSE | FALSE |\n",
       "| FALSE | FALSE |\n",
       "| FALSE | FALSE |\n",
       "| FALSE | FALSE |\n",
       "| FALSE | FALSE |\n",
       "| FALSE | FALSE |\n",
       "| FALSE | FALSE |\n",
       "| FALSE | FALSE |\n",
       "| FALSE | FALSE |\n",
       "| FALSE | FALSE |\n",
       "| FALSE | FALSE |\n",
       "| FALSE | FALSE |\n",
       "| FALSE | FALSE |\n",
       "| ⋮ | ⋮ |\n",
       "| FALSE | FALSE |\n",
       "| FALSE | FALSE |\n",
       "| FALSE | FALSE |\n",
       "| FALSE | FALSE |\n",
       "| FALSE | FALSE |\n",
       "| FALSE | FALSE |\n",
       "| FALSE | FALSE |\n",
       "| FALSE | FALSE |\n",
       "| FALSE | FALSE |\n",
       "| FALSE | FALSE |\n",
       "| FALSE | FALSE |\n",
       "| FALSE | FALSE |\n",
       "| FALSE | FALSE |\n",
       "| FALSE | FALSE |\n",
       "| FALSE | FALSE |\n",
       "| FALSE | FALSE |\n",
       "| FALSE | FALSE |\n",
       "| FALSE | FALSE |\n",
       "| FALSE | FALSE |\n",
       "| FALSE | FALSE |\n",
       "| FALSE | FALSE |\n",
       "| FALSE | FALSE |\n",
       "| FALSE | FALSE |\n",
       "| FALSE | FALSE |\n",
       "| FALSE | FALSE |\n",
       "| FALSE | FALSE |\n",
       "| FALSE | FALSE |\n",
       "| FALSE | FALSE |\n",
       "| FALSE | FALSE |\n",
       "| FALSE | FALSE |\n",
       "\n"
      ],
      "text/plain": [
       "      id    transactions\n",
       " [1,] FALSE FALSE       \n",
       " [2,] FALSE FALSE       \n",
       " [3,] FALSE FALSE       \n",
       " [4,] FALSE FALSE       \n",
       " [5,] FALSE FALSE       \n",
       " [6,] FALSE FALSE       \n",
       " [7,] FALSE FALSE       \n",
       " [8,] FALSE FALSE       \n",
       " [9,] FALSE FALSE       \n",
       "[10,] FALSE FALSE       \n",
       "[11,] FALSE FALSE       \n",
       "[12,] FALSE FALSE       \n",
       "[13,] FALSE FALSE       \n",
       "[14,] FALSE FALSE       \n",
       "[15,] FALSE FALSE       \n",
       "[16,] FALSE FALSE       \n",
       "[17,] FALSE FALSE       \n",
       "[18,] FALSE FALSE       \n",
       "[19,] FALSE FALSE       \n",
       "[20,] FALSE FALSE       \n",
       "[21,] FALSE FALSE       \n",
       "[22,] FALSE FALSE       \n",
       "[23,] FALSE FALSE       \n",
       "[24,] FALSE FALSE       \n",
       "[25,] FALSE FALSE       \n",
       "[26,] FALSE FALSE       \n",
       "[27,] FALSE FALSE       \n",
       "[28,] FALSE FALSE       \n",
       "[29,] FALSE FALSE       \n",
       "[30,] FALSE FALSE       \n",
       "[31,] ⋮     ⋮           \n",
       "[32,] FALSE FALSE       \n",
       "[33,] FALSE FALSE       \n",
       "[34,] FALSE FALSE       \n",
       "[35,] FALSE FALSE       \n",
       "[36,] FALSE FALSE       \n",
       "[37,] FALSE FALSE       \n",
       "[38,] FALSE FALSE       \n",
       "[39,] FALSE FALSE       \n",
       "[40,] FALSE FALSE       \n",
       "[41,] FALSE FALSE       \n",
       "[42,] FALSE FALSE       \n",
       "[43,] FALSE FALSE       \n",
       "[44,] FALSE FALSE       \n",
       "[45,] FALSE FALSE       \n",
       "[46,] FALSE FALSE       \n",
       "[47,] FALSE FALSE       \n",
       "[48,] FALSE FALSE       \n",
       "[49,] FALSE FALSE       \n",
       "[50,] FALSE FALSE       \n",
       "[51,] FALSE FALSE       \n",
       "[52,] FALSE FALSE       \n",
       "[53,] FALSE FALSE       \n",
       "[54,] FALSE FALSE       \n",
       "[55,] FALSE FALSE       \n",
       "[56,] FALSE FALSE       \n",
       "[57,] FALSE FALSE       \n",
       "[58,] FALSE FALSE       \n",
       "[59,] FALSE FALSE       \n",
       "[60,] FALSE FALSE       \n",
       "[61,] FALSE FALSE       "
      ]
     },
     "metadata": {},
     "output_type": "display_data"
    },
    {
     "data": {
      "text/html": [
       "<table class=\"dataframe\">\n",
       "<caption>A matrix: 312 × 2 of type lgl</caption>\n",
       "<thead>\n",
       "\t<tr><th scope=col>Date</th><th scope=col>Holidays</th></tr>\n",
       "</thead>\n",
       "<tbody>\n",
       "\t<tr><td>FALSE</td><td>FALSE</td></tr>\n",
       "\t<tr><td>FALSE</td><td>FALSE</td></tr>\n",
       "\t<tr><td>FALSE</td><td>FALSE</td></tr>\n",
       "\t<tr><td>FALSE</td><td>FALSE</td></tr>\n",
       "\t<tr><td>FALSE</td><td>FALSE</td></tr>\n",
       "\t<tr><td>FALSE</td><td>FALSE</td></tr>\n",
       "\t<tr><td>FALSE</td><td>FALSE</td></tr>\n",
       "\t<tr><td>FALSE</td><td>FALSE</td></tr>\n",
       "\t<tr><td>FALSE</td><td>FALSE</td></tr>\n",
       "\t<tr><td>FALSE</td><td>FALSE</td></tr>\n",
       "\t<tr><td>FALSE</td><td>FALSE</td></tr>\n",
       "\t<tr><td>FALSE</td><td>FALSE</td></tr>\n",
       "\t<tr><td>FALSE</td><td>FALSE</td></tr>\n",
       "\t<tr><td>FALSE</td><td>FALSE</td></tr>\n",
       "\t<tr><td>FALSE</td><td>FALSE</td></tr>\n",
       "\t<tr><td>FALSE</td><td>FALSE</td></tr>\n",
       "\t<tr><td>FALSE</td><td>FALSE</td></tr>\n",
       "\t<tr><td>FALSE</td><td>FALSE</td></tr>\n",
       "\t<tr><td>FALSE</td><td>FALSE</td></tr>\n",
       "\t<tr><td>FALSE</td><td>FALSE</td></tr>\n",
       "\t<tr><td>FALSE</td><td>FALSE</td></tr>\n",
       "\t<tr><td>FALSE</td><td>FALSE</td></tr>\n",
       "\t<tr><td>FALSE</td><td>FALSE</td></tr>\n",
       "\t<tr><td>FALSE</td><td>FALSE</td></tr>\n",
       "\t<tr><td>FALSE</td><td>FALSE</td></tr>\n",
       "\t<tr><td>FALSE</td><td>FALSE</td></tr>\n",
       "\t<tr><td>FALSE</td><td>FALSE</td></tr>\n",
       "\t<tr><td>FALSE</td><td>FALSE</td></tr>\n",
       "\t<tr><td>FALSE</td><td>FALSE</td></tr>\n",
       "\t<tr><td>FALSE</td><td>FALSE</td></tr>\n",
       "\t<tr><td>⋮</td><td>⋮</td></tr>\n",
       "\t<tr><td>FALSE</td><td>FALSE</td></tr>\n",
       "\t<tr><td>FALSE</td><td>FALSE</td></tr>\n",
       "\t<tr><td>FALSE</td><td>FALSE</td></tr>\n",
       "\t<tr><td>FALSE</td><td>FALSE</td></tr>\n",
       "\t<tr><td>FALSE</td><td>FALSE</td></tr>\n",
       "\t<tr><td>FALSE</td><td>FALSE</td></tr>\n",
       "\t<tr><td>FALSE</td><td>FALSE</td></tr>\n",
       "\t<tr><td>FALSE</td><td>FALSE</td></tr>\n",
       "\t<tr><td>FALSE</td><td>FALSE</td></tr>\n",
       "\t<tr><td>FALSE</td><td>FALSE</td></tr>\n",
       "\t<tr><td>FALSE</td><td>FALSE</td></tr>\n",
       "\t<tr><td>FALSE</td><td>FALSE</td></tr>\n",
       "\t<tr><td>FALSE</td><td>FALSE</td></tr>\n",
       "\t<tr><td>FALSE</td><td>FALSE</td></tr>\n",
       "\t<tr><td>FALSE</td><td>FALSE</td></tr>\n",
       "\t<tr><td>FALSE</td><td>FALSE</td></tr>\n",
       "\t<tr><td>FALSE</td><td>FALSE</td></tr>\n",
       "\t<tr><td>FALSE</td><td>FALSE</td></tr>\n",
       "\t<tr><td>FALSE</td><td>FALSE</td></tr>\n",
       "\t<tr><td>FALSE</td><td>FALSE</td></tr>\n",
       "\t<tr><td>FALSE</td><td>FALSE</td></tr>\n",
       "\t<tr><td>FALSE</td><td>FALSE</td></tr>\n",
       "\t<tr><td>FALSE</td><td>FALSE</td></tr>\n",
       "\t<tr><td>FALSE</td><td>FALSE</td></tr>\n",
       "\t<tr><td>FALSE</td><td>FALSE</td></tr>\n",
       "\t<tr><td>FALSE</td><td>FALSE</td></tr>\n",
       "\t<tr><td>FALSE</td><td>FALSE</td></tr>\n",
       "\t<tr><td>FALSE</td><td>FALSE</td></tr>\n",
       "\t<tr><td>FALSE</td><td>FALSE</td></tr>\n",
       "\t<tr><td>FALSE</td><td>FALSE</td></tr>\n",
       "</tbody>\n",
       "</table>\n"
      ],
      "text/latex": [
       "A matrix: 312 × 2 of type lgl\n",
       "\\begin{tabular}{ll}\n",
       " Date & Holidays\\\\\n",
       "\\hline\n",
       "\t FALSE & FALSE\\\\\n",
       "\t FALSE & FALSE\\\\\n",
       "\t FALSE & FALSE\\\\\n",
       "\t FALSE & FALSE\\\\\n",
       "\t FALSE & FALSE\\\\\n",
       "\t FALSE & FALSE\\\\\n",
       "\t FALSE & FALSE\\\\\n",
       "\t FALSE & FALSE\\\\\n",
       "\t FALSE & FALSE\\\\\n",
       "\t FALSE & FALSE\\\\\n",
       "\t FALSE & FALSE\\\\\n",
       "\t FALSE & FALSE\\\\\n",
       "\t FALSE & FALSE\\\\\n",
       "\t FALSE & FALSE\\\\\n",
       "\t FALSE & FALSE\\\\\n",
       "\t FALSE & FALSE\\\\\n",
       "\t FALSE & FALSE\\\\\n",
       "\t FALSE & FALSE\\\\\n",
       "\t FALSE & FALSE\\\\\n",
       "\t FALSE & FALSE\\\\\n",
       "\t FALSE & FALSE\\\\\n",
       "\t FALSE & FALSE\\\\\n",
       "\t FALSE & FALSE\\\\\n",
       "\t FALSE & FALSE\\\\\n",
       "\t FALSE & FALSE\\\\\n",
       "\t FALSE & FALSE\\\\\n",
       "\t FALSE & FALSE\\\\\n",
       "\t FALSE & FALSE\\\\\n",
       "\t FALSE & FALSE\\\\\n",
       "\t FALSE & FALSE\\\\\n",
       "\t ⋮ & ⋮\\\\\n",
       "\t FALSE & FALSE\\\\\n",
       "\t FALSE & FALSE\\\\\n",
       "\t FALSE & FALSE\\\\\n",
       "\t FALSE & FALSE\\\\\n",
       "\t FALSE & FALSE\\\\\n",
       "\t FALSE & FALSE\\\\\n",
       "\t FALSE & FALSE\\\\\n",
       "\t FALSE & FALSE\\\\\n",
       "\t FALSE & FALSE\\\\\n",
       "\t FALSE & FALSE\\\\\n",
       "\t FALSE & FALSE\\\\\n",
       "\t FALSE & FALSE\\\\\n",
       "\t FALSE & FALSE\\\\\n",
       "\t FALSE & FALSE\\\\\n",
       "\t FALSE & FALSE\\\\\n",
       "\t FALSE & FALSE\\\\\n",
       "\t FALSE & FALSE\\\\\n",
       "\t FALSE & FALSE\\\\\n",
       "\t FALSE & FALSE\\\\\n",
       "\t FALSE & FALSE\\\\\n",
       "\t FALSE & FALSE\\\\\n",
       "\t FALSE & FALSE\\\\\n",
       "\t FALSE & FALSE\\\\\n",
       "\t FALSE & FALSE\\\\\n",
       "\t FALSE & FALSE\\\\\n",
       "\t FALSE & FALSE\\\\\n",
       "\t FALSE & FALSE\\\\\n",
       "\t FALSE & FALSE\\\\\n",
       "\t FALSE & FALSE\\\\\n",
       "\t FALSE & FALSE\\\\\n",
       "\\end{tabular}\n"
      ],
      "text/markdown": [
       "\n",
       "A matrix: 312 × 2 of type lgl\n",
       "\n",
       "| Date | Holidays |\n",
       "|---|---|\n",
       "| FALSE | FALSE |\n",
       "| FALSE | FALSE |\n",
       "| FALSE | FALSE |\n",
       "| FALSE | FALSE |\n",
       "| FALSE | FALSE |\n",
       "| FALSE | FALSE |\n",
       "| FALSE | FALSE |\n",
       "| FALSE | FALSE |\n",
       "| FALSE | FALSE |\n",
       "| FALSE | FALSE |\n",
       "| FALSE | FALSE |\n",
       "| FALSE | FALSE |\n",
       "| FALSE | FALSE |\n",
       "| FALSE | FALSE |\n",
       "| FALSE | FALSE |\n",
       "| FALSE | FALSE |\n",
       "| FALSE | FALSE |\n",
       "| FALSE | FALSE |\n",
       "| FALSE | FALSE |\n",
       "| FALSE | FALSE |\n",
       "| FALSE | FALSE |\n",
       "| FALSE | FALSE |\n",
       "| FALSE | FALSE |\n",
       "| FALSE | FALSE |\n",
       "| FALSE | FALSE |\n",
       "| FALSE | FALSE |\n",
       "| FALSE | FALSE |\n",
       "| FALSE | FALSE |\n",
       "| FALSE | FALSE |\n",
       "| FALSE | FALSE |\n",
       "| ⋮ | ⋮ |\n",
       "| FALSE | FALSE |\n",
       "| FALSE | FALSE |\n",
       "| FALSE | FALSE |\n",
       "| FALSE | FALSE |\n",
       "| FALSE | FALSE |\n",
       "| FALSE | FALSE |\n",
       "| FALSE | FALSE |\n",
       "| FALSE | FALSE |\n",
       "| FALSE | FALSE |\n",
       "| FALSE | FALSE |\n",
       "| FALSE | FALSE |\n",
       "| FALSE | FALSE |\n",
       "| FALSE | FALSE |\n",
       "| FALSE | FALSE |\n",
       "| FALSE | FALSE |\n",
       "| FALSE | FALSE |\n",
       "| FALSE | FALSE |\n",
       "| FALSE | FALSE |\n",
       "| FALSE | FALSE |\n",
       "| FALSE | FALSE |\n",
       "| FALSE | FALSE |\n",
       "| FALSE | FALSE |\n",
       "| FALSE | FALSE |\n",
       "| FALSE | FALSE |\n",
       "| FALSE | FALSE |\n",
       "| FALSE | FALSE |\n",
       "| FALSE | FALSE |\n",
       "| FALSE | FALSE |\n",
       "| FALSE | FALSE |\n",
       "| FALSE | FALSE |\n",
       "\n"
      ],
      "text/plain": [
       "      Date  Holidays\n",
       " [1,] FALSE FALSE   \n",
       " [2,] FALSE FALSE   \n",
       " [3,] FALSE FALSE   \n",
       " [4,] FALSE FALSE   \n",
       " [5,] FALSE FALSE   \n",
       " [6,] FALSE FALSE   \n",
       " [7,] FALSE FALSE   \n",
       " [8,] FALSE FALSE   \n",
       " [9,] FALSE FALSE   \n",
       "[10,] FALSE FALSE   \n",
       "[11,] FALSE FALSE   \n",
       "[12,] FALSE FALSE   \n",
       "[13,] FALSE FALSE   \n",
       "[14,] FALSE FALSE   \n",
       "[15,] FALSE FALSE   \n",
       "[16,] FALSE FALSE   \n",
       "[17,] FALSE FALSE   \n",
       "[18,] FALSE FALSE   \n",
       "[19,] FALSE FALSE   \n",
       "[20,] FALSE FALSE   \n",
       "[21,] FALSE FALSE   \n",
       "[22,] FALSE FALSE   \n",
       "[23,] FALSE FALSE   \n",
       "[24,] FALSE FALSE   \n",
       "[25,] FALSE FALSE   \n",
       "[26,] FALSE FALSE   \n",
       "[27,] FALSE FALSE   \n",
       "[28,] FALSE FALSE   \n",
       "[29,] FALSE FALSE   \n",
       "[30,] FALSE FALSE   \n",
       "[31,] ⋮     ⋮       \n",
       "[32,] FALSE FALSE   \n",
       "[33,] FALSE FALSE   \n",
       "[34,] FALSE FALSE   \n",
       "[35,] FALSE FALSE   \n",
       "[36,] FALSE FALSE   \n",
       "[37,] FALSE FALSE   \n",
       "[38,] FALSE FALSE   \n",
       "[39,] FALSE FALSE   \n",
       "[40,] FALSE FALSE   \n",
       "[41,] FALSE FALSE   \n",
       "[42,] FALSE FALSE   \n",
       "[43,] FALSE FALSE   \n",
       "[44,] FALSE FALSE   \n",
       "[45,] FALSE FALSE   \n",
       "[46,] FALSE FALSE   \n",
       "[47,] FALSE FALSE   \n",
       "[48,] FALSE FALSE   \n",
       "[49,] FALSE FALSE   \n",
       "[50,] FALSE FALSE   \n",
       "[51,] FALSE FALSE   \n",
       "[52,] FALSE FALSE   \n",
       "[53,] FALSE FALSE   \n",
       "[54,] FALSE FALSE   \n",
       "[55,] FALSE FALSE   \n",
       "[56,] FALSE FALSE   \n",
       "[57,] FALSE FALSE   \n",
       "[58,] FALSE FALSE   \n",
       "[59,] FALSE FALSE   \n",
       "[60,] FALSE FALSE   \n",
       "[61,] FALSE FALSE   "
      ]
     },
     "metadata": {},
     "output_type": "display_data"
    }
   ],
   "source": [
    "is.na(train)\n",
    "is.na(test)\n",
    "is.na(ss)\n",
    "is.na(holidays)"
   ]
  },
  {
   "cell_type": "code",
   "execution_count": 5,
   "id": "e88609a6",
   "metadata": {
    "execution": {
     "iopub.execute_input": "2022-11-22T23:06:59.230535Z",
     "iopub.status.busy": "2022-11-22T23:06:59.228460Z",
     "iopub.status.idle": "2022-11-22T23:06:59.264640Z",
     "shell.execute_reply": "2022-11-22T23:06:59.262027Z"
    },
    "papermill": {
     "duration": 0.055281,
     "end_time": "2022-11-22T23:06:59.268031",
     "exception": false,
     "start_time": "2022-11-22T23:06:59.212750",
     "status": "completed"
    },
    "tags": []
   },
   "outputs": [
    {
     "data": {
      "text/html": [
       "<style>\n",
       ".list-inline {list-style: none; margin:0; padding: 0}\n",
       ".list-inline>li {display: inline-block}\n",
       ".list-inline>li:not(:last-child)::after {content: \"\\00b7\"; padding: 0 .5ex}\n",
       "</style>\n",
       "<ol class=list-inline><li>'01-01-2013'</li><li>'02-01-2013'</li><li>'03-01-2013'</li><li>'04-01-2013'</li><li>'05-01-2013'</li><li>'06-01-2013'</li></ol>\n"
      ],
      "text/latex": [
       "\\begin{enumerate*}\n",
       "\\item '01-01-2013'\n",
       "\\item '02-01-2013'\n",
       "\\item '03-01-2013'\n",
       "\\item '04-01-2013'\n",
       "\\item '05-01-2013'\n",
       "\\item '06-01-2013'\n",
       "\\end{enumerate*}\n"
      ],
      "text/markdown": [
       "1. '01-01-2013'\n",
       "2. '02-01-2013'\n",
       "3. '03-01-2013'\n",
       "4. '04-01-2013'\n",
       "5. '05-01-2013'\n",
       "6. '06-01-2013'\n",
       "\n",
       "\n"
      ],
      "text/plain": [
       "[1] \"01-01-2013\" \"02-01-2013\" \"03-01-2013\" \"04-01-2013\" \"05-01-2013\"\n",
       "[6] \"06-01-2013\""
      ]
     },
     "metadata": {},
     "output_type": "display_data"
    },
    {
     "data": {
      "text/html": [
       "<style>\n",
       ".list-inline {list-style: none; margin:0; padding: 0}\n",
       ".list-inline>li {display: inline-block}\n",
       ".list-inline>li:not(:last-child)::after {content: \"\\00b7\"; padding: 0 .5ex}\n",
       "</style>\n",
       "<ol class=list-inline><li><time datetime=\"2013-01-01\">2013-01-01</time></li><li><time datetime=\"2013-01-02\">2013-01-02</time></li><li><time datetime=\"2013-01-03\">2013-01-03</time></li><li><time datetime=\"2013-01-04\">2013-01-04</time></li><li><time datetime=\"2013-01-05\">2013-01-05</time></li><li><time datetime=\"2013-01-06\">2013-01-06</time></li></ol>\n"
      ],
      "text/latex": [
       "\\begin{enumerate*}\n",
       "\\item 2013-01-01\n",
       "\\item 2013-01-02\n",
       "\\item 2013-01-03\n",
       "\\item 2013-01-04\n",
       "\\item 2013-01-05\n",
       "\\item 2013-01-06\n",
       "\\end{enumerate*}\n"
      ],
      "text/markdown": [
       "1. 2013-01-01\n",
       "2. 2013-01-02\n",
       "3. 2013-01-03\n",
       "4. 2013-01-04\n",
       "5. 2013-01-05\n",
       "6. 2013-01-06\n",
       "\n",
       "\n"
      ],
      "text/plain": [
       "[1] \"2013-01-01\" \"2013-01-02\" \"2013-01-03\" \"2013-01-04\" \"2013-01-05\"\n",
       "[6] \"2013-01-06\""
      ]
     },
     "metadata": {},
     "output_type": "display_data"
    }
   ],
   "source": [
    "head(train$date)\n",
    "train$date<-as.Date(train$date, format=\"%d-%m-%Y\")\n",
    "head(train$date)"
   ]
  },
  {
   "cell_type": "code",
   "execution_count": 6,
   "id": "d9ff676b",
   "metadata": {
    "execution": {
     "iopub.execute_input": "2022-11-22T23:06:59.298614Z",
     "iopub.status.busy": "2022-11-22T23:06:59.296695Z",
     "iopub.status.idle": "2022-11-22T23:06:59.325999Z",
     "shell.execute_reply": "2022-11-22T23:06:59.323951Z"
    },
    "papermill": {
     "duration": 0.047425,
     "end_time": "2022-11-22T23:06:59.328636",
     "exception": false,
     "start_time": "2022-11-22T23:06:59.281211",
     "status": "completed"
    },
    "tags": []
   },
   "outputs": [
    {
     "data": {
      "text/html": [
       "<style>\n",
       ".list-inline {list-style: none; margin:0; padding: 0}\n",
       ".list-inline>li {display: inline-block}\n",
       ".list-inline>li:not(:last-child)::after {content: \"\\00b7\"; padding: 0 .5ex}\n",
       "</style>\n",
       "<ol class=list-inline><li>'02-03-2012'</li><li>'01-04-2012'</li><li>'12-04-2012'</li><li>'14-04-2012'</li><li>'21-04-2012'</li><li>'12-05-2012'</li></ol>\n"
      ],
      "text/latex": [
       "\\begin{enumerate*}\n",
       "\\item '02-03-2012'\n",
       "\\item '01-04-2012'\n",
       "\\item '12-04-2012'\n",
       "\\item '14-04-2012'\n",
       "\\item '21-04-2012'\n",
       "\\item '12-05-2012'\n",
       "\\end{enumerate*}\n"
      ],
      "text/markdown": [
       "1. '02-03-2012'\n",
       "2. '01-04-2012'\n",
       "3. '12-04-2012'\n",
       "4. '14-04-2012'\n",
       "5. '21-04-2012'\n",
       "6. '12-05-2012'\n",
       "\n",
       "\n"
      ],
      "text/plain": [
       "[1] \"02-03-2012\" \"01-04-2012\" \"12-04-2012\" \"14-04-2012\" \"21-04-2012\"\n",
       "[6] \"12-05-2012\""
      ]
     },
     "metadata": {},
     "output_type": "display_data"
    },
    {
     "data": {
      "text/html": [
       "<style>\n",
       ".list-inline {list-style: none; margin:0; padding: 0}\n",
       ".list-inline>li {display: inline-block}\n",
       ".list-inline>li:not(:last-child)::after {content: \"\\00b7\"; padding: 0 .5ex}\n",
       "</style>\n",
       "<ol class=list-inline><li><time datetime=\"2012-03-02\">2012-03-02</time></li><li><time datetime=\"2012-04-01\">2012-04-01</time></li><li><time datetime=\"2012-04-12\">2012-04-12</time></li><li><time datetime=\"2012-04-14\">2012-04-14</time></li><li><time datetime=\"2012-04-21\">2012-04-21</time></li><li><time datetime=\"2012-05-12\">2012-05-12</time></li></ol>\n"
      ],
      "text/latex": [
       "\\begin{enumerate*}\n",
       "\\item 2012-03-02\n",
       "\\item 2012-04-01\n",
       "\\item 2012-04-12\n",
       "\\item 2012-04-14\n",
       "\\item 2012-04-21\n",
       "\\item 2012-05-12\n",
       "\\end{enumerate*}\n"
      ],
      "text/markdown": [
       "1. 2012-03-02\n",
       "2. 2012-04-01\n",
       "3. 2012-04-12\n",
       "4. 2012-04-14\n",
       "5. 2012-04-21\n",
       "6. 2012-05-12\n",
       "\n",
       "\n"
      ],
      "text/plain": [
       "[1] \"2012-03-02\" \"2012-04-01\" \"2012-04-12\" \"2012-04-14\" \"2012-04-21\"\n",
       "[6] \"2012-05-12\""
      ]
     },
     "metadata": {},
     "output_type": "display_data"
    }
   ],
   "source": [
    "head(holidays$Date)\n",
    "holidays$Date<-as.Date(holidays$Date, format=\"%d-%m-%Y\")\n",
    "head(holidays$Date)"
   ]
  },
  {
   "cell_type": "markdown",
   "id": "e00eda74",
   "metadata": {
    "papermill": {
     "duration": 0.013394,
     "end_time": "2022-11-22T23:06:59.355700",
     "exception": false,
     "start_time": "2022-11-22T23:06:59.342306",
     "status": "completed"
    },
    "tags": []
   },
   "source": [
    "#Missing values in date columns"
   ]
  },
  {
   "cell_type": "code",
   "execution_count": 7,
   "id": "83266ee2",
   "metadata": {
    "execution": {
     "iopub.execute_input": "2022-11-22T23:06:59.386821Z",
     "iopub.status.busy": "2022-11-22T23:06:59.384894Z",
     "iopub.status.idle": "2022-11-22T23:06:59.667814Z",
     "shell.execute_reply": "2022-11-22T23:06:59.665773Z"
    },
    "papermill": {
     "duration": 0.301756,
     "end_time": "2022-11-22T23:06:59.670428",
     "exception": false,
     "start_time": "2022-11-22T23:06:59.368672",
     "status": "completed"
    },
    "tags": []
   },
   "outputs": [
    {
     "name": "stderr",
     "output_type": "stream",
     "text": [
      "pad applied on the interval: day\n",
      "\n"
     ]
    },
    {
     "data": {
      "text/html": [
       "6"
      ],
      "text/latex": [
       "6"
      ],
      "text/markdown": [
       "6"
      ],
      "text/plain": [
       "[1] 6"
      ]
     },
     "metadata": {},
     "output_type": "display_data"
    },
    {
     "name": "stderr",
     "output_type": "stream",
     "text": [
      "pad applied on the interval: day\n",
      "\n"
     ]
    },
    {
     "data": {
      "text/html": [
       "<table class=\"dataframe\">\n",
       "<caption>A data.frame: 6 × 2</caption>\n",
       "<thead>\n",
       "\t<tr><th></th><th scope=col>date</th><th scope=col>transactions</th></tr>\n",
       "\t<tr><th></th><th scope=col>&lt;date&gt;</th><th scope=col>&lt;dbl&gt;</th></tr>\n",
       "</thead>\n",
       "<tbody>\n",
       "\t<tr><th scope=row>359</th><td>2013-12-25</td><td>0</td></tr>\n",
       "\t<tr><th scope=row>724</th><td>2014-12-25</td><td>0</td></tr>\n",
       "\t<tr><th scope=row>1089</th><td>2015-12-25</td><td>0</td></tr>\n",
       "\t<tr><th scope=row>1096</th><td>2016-01-01</td><td>0</td></tr>\n",
       "\t<tr><th scope=row>1098</th><td>2016-01-03</td><td>0</td></tr>\n",
       "\t<tr><th scope=row>1455</th><td>2016-12-25</td><td>0</td></tr>\n",
       "</tbody>\n",
       "</table>\n"
      ],
      "text/latex": [
       "A data.frame: 6 × 2\n",
       "\\begin{tabular}{r|ll}\n",
       "  & date & transactions\\\\\n",
       "  & <date> & <dbl>\\\\\n",
       "\\hline\n",
       "\t359 & 2013-12-25 & 0\\\\\n",
       "\t724 & 2014-12-25 & 0\\\\\n",
       "\t1089 & 2015-12-25 & 0\\\\\n",
       "\t1096 & 2016-01-01 & 0\\\\\n",
       "\t1098 & 2016-01-03 & 0\\\\\n",
       "\t1455 & 2016-12-25 & 0\\\\\n",
       "\\end{tabular}\n"
      ],
      "text/markdown": [
       "\n",
       "A data.frame: 6 × 2\n",
       "\n",
       "| <!--/--> | date &lt;date&gt; | transactions &lt;dbl&gt; |\n",
       "|---|---|---|\n",
       "| 359 | 2013-12-25 | 0 |\n",
       "| 724 | 2014-12-25 | 0 |\n",
       "| 1089 | 2015-12-25 | 0 |\n",
       "| 1096 | 2016-01-01 | 0 |\n",
       "| 1098 | 2016-01-03 | 0 |\n",
       "| 1455 | 2016-12-25 | 0 |\n",
       "\n"
      ],
      "text/plain": [
       "     date       transactions\n",
       "359  2013-12-25 0           \n",
       "724  2014-12-25 0           \n",
       "1089 2015-12-25 0           \n",
       "1096 2016-01-01 0           \n",
       "1098 2016-01-03 0           \n",
       "1455 2016-12-25 0           "
      ]
     },
     "metadata": {},
     "output_type": "display_data"
    },
    {
     "data": {
      "text/html": [
       "<table class=\"dataframe\">\n",
       "<caption>A data.frame: 10 × 2</caption>\n",
       "<thead>\n",
       "\t<tr><th></th><th scope=col>date</th><th scope=col>transactions</th></tr>\n",
       "\t<tr><th></th><th scope=col>&lt;date&gt;</th><th scope=col>&lt;dbl&gt;</th></tr>\n",
       "</thead>\n",
       "<tbody>\n",
       "\t<tr><th scope=row>1452</th><td>2016-12-22</td><td>138892</td></tr>\n",
       "\t<tr><th scope=row>1453</th><td>2016-12-23</td><td>156932</td></tr>\n",
       "\t<tr><th scope=row>1454</th><td>2016-12-24</td><td>167542</td></tr>\n",
       "\t<tr><th scope=row>1455</th><td>2016-12-25</td><td>     0</td></tr>\n",
       "\t<tr><th scope=row>1456</th><td>2016-12-26</td><td>105524</td></tr>\n",
       "\t<tr><th scope=row>1457</th><td>2016-12-27</td><td> 95643</td></tr>\n",
       "\t<tr><th scope=row>1458</th><td>2016-12-28</td><td>103717</td></tr>\n",
       "\t<tr><th scope=row>1459</th><td>2016-12-29</td><td>102665</td></tr>\n",
       "\t<tr><th scope=row>1460</th><td>2016-12-30</td><td>127771</td></tr>\n",
       "\t<tr><th scope=row>1461</th><td>2016-12-31</td><td>135568</td></tr>\n",
       "</tbody>\n",
       "</table>\n"
      ],
      "text/latex": [
       "A data.frame: 10 × 2\n",
       "\\begin{tabular}{r|ll}\n",
       "  & date & transactions\\\\\n",
       "  & <date> & <dbl>\\\\\n",
       "\\hline\n",
       "\t1452 & 2016-12-22 & 138892\\\\\n",
       "\t1453 & 2016-12-23 & 156932\\\\\n",
       "\t1454 & 2016-12-24 & 167542\\\\\n",
       "\t1455 & 2016-12-25 &      0\\\\\n",
       "\t1456 & 2016-12-26 & 105524\\\\\n",
       "\t1457 & 2016-12-27 &  95643\\\\\n",
       "\t1458 & 2016-12-28 & 103717\\\\\n",
       "\t1459 & 2016-12-29 & 102665\\\\\n",
       "\t1460 & 2016-12-30 & 127771\\\\\n",
       "\t1461 & 2016-12-31 & 135568\\\\\n",
       "\\end{tabular}\n"
      ],
      "text/markdown": [
       "\n",
       "A data.frame: 10 × 2\n",
       "\n",
       "| <!--/--> | date &lt;date&gt; | transactions &lt;dbl&gt; |\n",
       "|---|---|---|\n",
       "| 1452 | 2016-12-22 | 138892 |\n",
       "| 1453 | 2016-12-23 | 156932 |\n",
       "| 1454 | 2016-12-24 | 167542 |\n",
       "| 1455 | 2016-12-25 |      0 |\n",
       "| 1456 | 2016-12-26 | 105524 |\n",
       "| 1457 | 2016-12-27 |  95643 |\n",
       "| 1458 | 2016-12-28 | 103717 |\n",
       "| 1459 | 2016-12-29 | 102665 |\n",
       "| 1460 | 2016-12-30 | 127771 |\n",
       "| 1461 | 2016-12-31 | 135568 |\n",
       "\n"
      ],
      "text/plain": [
       "     date       transactions\n",
       "1452 2016-12-22 138892      \n",
       "1453 2016-12-23 156932      \n",
       "1454 2016-12-24 167542      \n",
       "1455 2016-12-25      0      \n",
       "1456 2016-12-26 105524      \n",
       "1457 2016-12-27  95643      \n",
       "1458 2016-12-28 103717      \n",
       "1459 2016-12-29 102665      \n",
       "1460 2016-12-30 127771      \n",
       "1461 2016-12-31 135568      "
      ]
     },
     "metadata": {},
     "output_type": "display_data"
    }
   ],
   "source": [
    "train <- train %>% pad\n",
    "train$transactions %>% is.na %>% sum\n",
    "train <- train %>% pad %>% fill_by_value(transactions, value = 0)\n",
    "subset(train,train$transactions==\"0\")\n",
    "tail(train,n=10)"
   ]
  },
  {
   "cell_type": "markdown",
   "id": "630922dc",
   "metadata": {
    "papermill": {
     "duration": 0.013998,
     "end_time": "2022-11-22T23:06:59.698189",
     "exception": false,
     "start_time": "2022-11-22T23:06:59.684191",
     "status": "completed"
    },
    "tags": []
   },
   "source": [
    "Finding the Average of 1st Jan"
   ]
  },
  {
   "cell_type": "code",
   "execution_count": 8,
   "id": "7a4f0cf8",
   "metadata": {
    "execution": {
     "iopub.execute_input": "2022-11-22T23:06:59.730067Z",
     "iopub.status.busy": "2022-11-22T23:06:59.728247Z",
     "iopub.status.idle": "2022-11-22T23:06:59.756730Z",
     "shell.execute_reply": "2022-11-22T23:06:59.754608Z"
    },
    "papermill": {
     "duration": 0.047503,
     "end_time": "2022-11-22T23:06:59.759330",
     "exception": false,
     "start_time": "2022-11-22T23:06:59.711827",
     "status": "completed"
    },
    "tags": []
   },
   "outputs": [
    {
     "data": {
      "text/html": [
       "1433"
      ],
      "text/latex": [
       "1433"
      ],
      "text/markdown": [
       "1433"
      ],
      "text/plain": [
       "[1] 1433"
      ]
     },
     "metadata": {},
     "output_type": "display_data"
    }
   ],
   "source": [
    "Jan_1_2013 <-subset(train,train$date==\"2013-01-01\")\n",
    "Jan_1_2014 <-subset(train,train$date==\"2014-01-01\")\n",
    "Jan_1_2015 <-subset(train,train$date==\"2015-01-01\")\n",
    "round((Jan_1_2013$transactions+Jan_1_2014$transactions+Jan_1_2015$transactions)/3,0)"
   ]
  },
  {
   "cell_type": "markdown",
   "id": "1aa210f3",
   "metadata": {
    "papermill": {
     "duration": 0.014705,
     "end_time": "2022-11-22T23:06:59.787960",
     "exception": false,
     "start_time": "2022-11-22T23:06:59.773255",
     "status": "completed"
    },
    "tags": []
   },
   "source": [
    "Finding the Average of 3rd of January"
   ]
  },
  {
   "cell_type": "code",
   "execution_count": 9,
   "id": "00df3784",
   "metadata": {
    "execution": {
     "iopub.execute_input": "2022-11-22T23:06:59.821002Z",
     "iopub.status.busy": "2022-11-22T23:06:59.819113Z",
     "iopub.status.idle": "2022-11-22T23:06:59.846908Z",
     "shell.execute_reply": "2022-11-22T23:06:59.844782Z"
    },
    "papermill": {
     "duration": 0.047408,
     "end_time": "2022-11-22T23:06:59.849514",
     "exception": false,
     "start_time": "2022-11-22T23:06:59.802106",
     "status": "completed"
    },
    "tags": []
   },
   "outputs": [
    {
     "data": {
      "text/html": [
       "86427"
      ],
      "text/latex": [
       "86427"
      ],
      "text/markdown": [
       "86427"
      ],
      "text/plain": [
       "[1] 86427"
      ]
     },
     "metadata": {},
     "output_type": "display_data"
    }
   ],
   "source": [
    "Jan_3_2013 <-subset(train,train$date==\"2013-01-03\")\n",
    "Jan_3_2014 <-subset(train,train$date==\"2014-01-03\")\n",
    "Jan_3_2015 <-subset(train,train$date==\"2015-01-03\")\n",
    "round((Jan_3_2013$transactions+Jan_3_2014$transactions+Jan_3_2015$transactions)/3,0)"
   ]
  },
  {
   "cell_type": "raw",
   "id": "1de40260",
   "metadata": {
    "papermill": {
     "duration": 0.014174,
     "end_time": "2022-11-22T23:06:59.877655",
     "exception": false,
     "start_time": "2022-11-22T23:06:59.863481",
     "status": "completed"
    },
    "tags": []
   },
   "source": [
    "Replacing the 0 values with average"
   ]
  },
  {
   "cell_type": "code",
   "execution_count": 10,
   "id": "49afe437",
   "metadata": {
    "execution": {
     "iopub.execute_input": "2022-11-22T23:06:59.910637Z",
     "iopub.status.busy": "2022-11-22T23:06:59.908771Z",
     "iopub.status.idle": "2022-11-22T23:06:59.949170Z",
     "shell.execute_reply": "2022-11-22T23:06:59.936542Z"
    },
    "papermill": {
     "duration": 0.060416,
     "end_time": "2022-11-22T23:06:59.952036",
     "exception": false,
     "start_time": "2022-11-22T23:06:59.891620",
     "status": "completed"
    },
    "tags": []
   },
   "outputs": [
    {
     "data": {
      "text/html": [
       "<table class=\"dataframe\">\n",
       "<caption>A data.frame: 1 × 2</caption>\n",
       "<thead>\n",
       "\t<tr><th></th><th scope=col>date</th><th scope=col>transactions</th></tr>\n",
       "\t<tr><th></th><th scope=col>&lt;date&gt;</th><th scope=col>&lt;dbl&gt;</th></tr>\n",
       "</thead>\n",
       "<tbody>\n",
       "\t<tr><th scope=row>1096</th><td>2016-01-01</td><td>1433</td></tr>\n",
       "</tbody>\n",
       "</table>\n"
      ],
      "text/latex": [
       "A data.frame: 1 × 2\n",
       "\\begin{tabular}{r|ll}\n",
       "  & date & transactions\\\\\n",
       "  & <date> & <dbl>\\\\\n",
       "\\hline\n",
       "\t1096 & 2016-01-01 & 1433\\\\\n",
       "\\end{tabular}\n"
      ],
      "text/markdown": [
       "\n",
       "A data.frame: 1 × 2\n",
       "\n",
       "| <!--/--> | date &lt;date&gt; | transactions &lt;dbl&gt; |\n",
       "|---|---|---|\n",
       "| 1096 | 2016-01-01 | 1433 |\n",
       "\n"
      ],
      "text/plain": [
       "     date       transactions\n",
       "1096 2016-01-01 1433        "
      ]
     },
     "metadata": {},
     "output_type": "display_data"
    }
   ],
   "source": [
    "train$transactions[train$date == '2016-01-01'] <- 1433\n",
    "subset(train,train$date==\"2016-01-01\")"
   ]
  },
  {
   "cell_type": "code",
   "execution_count": 11,
   "id": "0c84c272",
   "metadata": {
    "execution": {
     "iopub.execute_input": "2022-11-22T23:06:59.985238Z",
     "iopub.status.busy": "2022-11-22T23:06:59.983317Z",
     "iopub.status.idle": "2022-11-22T23:07:00.015134Z",
     "shell.execute_reply": "2022-11-22T23:07:00.013015Z"
    },
    "papermill": {
     "duration": 0.051382,
     "end_time": "2022-11-22T23:07:00.017840",
     "exception": false,
     "start_time": "2022-11-22T23:06:59.966458",
     "status": "completed"
    },
    "tags": []
   },
   "outputs": [
    {
     "data": {
      "text/html": [
       "<table class=\"dataframe\">\n",
       "<caption>A data.frame: 1 × 2</caption>\n",
       "<thead>\n",
       "\t<tr><th></th><th scope=col>date</th><th scope=col>transactions</th></tr>\n",
       "\t<tr><th></th><th scope=col>&lt;date&gt;</th><th scope=col>&lt;dbl&gt;</th></tr>\n",
       "</thead>\n",
       "<tbody>\n",
       "\t<tr><th scope=row>1098</th><td>2016-01-03</td><td>86427</td></tr>\n",
       "</tbody>\n",
       "</table>\n"
      ],
      "text/latex": [
       "A data.frame: 1 × 2\n",
       "\\begin{tabular}{r|ll}\n",
       "  & date & transactions\\\\\n",
       "  & <date> & <dbl>\\\\\n",
       "\\hline\n",
       "\t1098 & 2016-01-03 & 86427\\\\\n",
       "\\end{tabular}\n"
      ],
      "text/markdown": [
       "\n",
       "A data.frame: 1 × 2\n",
       "\n",
       "| <!--/--> | date &lt;date&gt; | transactions &lt;dbl&gt; |\n",
       "|---|---|---|\n",
       "| 1098 | 2016-01-03 | 86427 |\n",
       "\n"
      ],
      "text/plain": [
       "     date       transactions\n",
       "1098 2016-01-03 86427       "
      ]
     },
     "metadata": {},
     "output_type": "display_data"
    }
   ],
   "source": [
    "train$transactions[train$date == '2016-01-03'] <- 86427\n",
    "subset(train,train$date==\"2016-01-03\")"
   ]
  },
  {
   "cell_type": "markdown",
   "id": "8924a2f4",
   "metadata": {
    "papermill": {
     "duration": 0.014513,
     "end_time": "2022-11-22T23:07:00.047939",
     "exception": false,
     "start_time": "2022-11-22T23:07:00.033426",
     "status": "completed"
    },
    "tags": []
   },
   "source": [
    "# 5. Data Manipulation"
   ]
  },
  {
   "cell_type": "markdown",
   "id": "891e3b65",
   "metadata": {
    "papermill": {
     "duration": 0.014458,
     "end_time": "2022-11-22T23:07:00.076803",
     "exception": false,
     "start_time": "2022-11-22T23:07:00.062345",
     "status": "completed"
    },
    "tags": []
   },
   "source": [
    "Matching the holidays with the train dataset"
   ]
  },
  {
   "cell_type": "code",
   "execution_count": 12,
   "id": "d253cf08",
   "metadata": {
    "execution": {
     "iopub.execute_input": "2022-11-22T23:07:00.116892Z",
     "iopub.status.busy": "2022-11-22T23:07:00.115006Z",
     "iopub.status.idle": "2022-11-22T23:07:00.155928Z",
     "shell.execute_reply": "2022-11-22T23:07:00.153733Z"
    },
    "papermill": {
     "duration": 0.065805,
     "end_time": "2022-11-22T23:07:00.158464",
     "exception": false,
     "start_time": "2022-11-22T23:07:00.092659",
     "status": "completed"
    },
    "tags": []
   },
   "outputs": [
    {
     "data": {
      "text/html": [
       "<style>\n",
       ".dl-inline {width: auto; margin:0; padding: 0}\n",
       ".dl-inline>dt, .dl-inline>dd {float: none; width: auto; display: inline-block}\n",
       ".dl-inline>dt::after {content: \":\\0020\"; padding-right: .5ex}\n",
       ".dl-inline>dt:not(:first-of-type) {padding-left: .5ex}\n",
       "</style><dl class=dl-inline><dt>date</dt><dd>0</dd><dt>transactions</dt><dd>0</dd><dt>holiday</dt><dd>1231</dd></dl>\n"
      ],
      "text/latex": [
       "\\begin{description*}\n",
       "\\item[date] 0\n",
       "\\item[transactions] 0\n",
       "\\item[holiday] 1231\n",
       "\\end{description*}\n"
      ],
      "text/markdown": [
       "date\n",
       ":   0transactions\n",
       ":   0holiday\n",
       ":   1231\n",
       "\n"
      ],
      "text/plain": [
       "        date transactions      holiday \n",
       "           0            0         1231 "
      ]
     },
     "metadata": {},
     "output_type": "display_data"
    },
    {
     "data": {
      "text/html": [
       "<style>\n",
       ".dl-inline {width: auto; margin:0; padding: 0}\n",
       ".dl-inline>dt, .dl-inline>dd {float: none; width: auto; display: inline-block}\n",
       ".dl-inline>dt::after {content: \":\\0020\"; padding-right: .5ex}\n",
       ".dl-inline>dt:not(:first-of-type) {padding-left: .5ex}\n",
       "</style><dl class=dl-inline><dt>date</dt><dd>0</dd><dt>transactions</dt><dd>0</dd><dt>holiday</dt><dd>0</dd></dl>\n"
      ],
      "text/latex": [
       "\\begin{description*}\n",
       "\\item[date] 0\n",
       "\\item[transactions] 0\n",
       "\\item[holiday] 0\n",
       "\\end{description*}\n"
      ],
      "text/markdown": [
       "date\n",
       ":   0transactions\n",
       ":   0holiday\n",
       ":   0\n",
       "\n"
      ],
      "text/plain": [
       "        date transactions      holiday \n",
       "           0            0            0 "
      ]
     },
     "metadata": {},
     "output_type": "display_data"
    }
   ],
   "source": [
    "colnames(holidays) <- c('date','holiday')\n",
    "holidays_1 <- left_join(train,holidays,by='date')\n",
    "colSums(is.na(holidays_1))\n",
    "holidays_1$holiday[is.na(holidays_1$holiday)] <- 0\n",
    "colSums(is.na(holidays_1))\n",
    "colnames(holidays_1) <- c('ds','y','holiday')"
   ]
  },
  {
   "cell_type": "code",
   "execution_count": 13,
   "id": "8e72f2ae",
   "metadata": {
    "execution": {
     "iopub.execute_input": "2022-11-22T23:07:00.192675Z",
     "iopub.status.busy": "2022-11-22T23:07:00.190734Z",
     "iopub.status.idle": "2022-11-22T23:07:00.224153Z",
     "shell.execute_reply": "2022-11-22T23:07:00.222162Z"
    },
    "papermill": {
     "duration": 0.053328,
     "end_time": "2022-11-22T23:07:00.226617",
     "exception": false,
     "start_time": "2022-11-22T23:07:00.173289",
     "status": "completed"
    },
    "tags": []
   },
   "outputs": [
    {
     "data": {
      "text/html": [
       "<table class=\"dataframe\">\n",
       "<caption>A data.frame: 6 × 2</caption>\n",
       "<thead>\n",
       "\t<tr><th></th><th scope=col>ds</th><th scope=col>holiday</th></tr>\n",
       "\t<tr><th></th><th scope=col>&lt;date&gt;</th><th scope=col>&lt;dbl&gt;</th></tr>\n",
       "</thead>\n",
       "<tbody>\n",
       "\t<tr><th scope=row>1456</th><td>2016-12-26</td><td>1</td></tr>\n",
       "\t<tr><th scope=row>1457</th><td>2016-12-27</td><td>0</td></tr>\n",
       "\t<tr><th scope=row>1458</th><td>2016-12-28</td><td>0</td></tr>\n",
       "\t<tr><th scope=row>1459</th><td>2016-12-29</td><td>0</td></tr>\n",
       "\t<tr><th scope=row>1460</th><td>2016-12-30</td><td>0</td></tr>\n",
       "\t<tr><th scope=row>1461</th><td>2016-12-31</td><td>1</td></tr>\n",
       "</tbody>\n",
       "</table>\n"
      ],
      "text/latex": [
       "A data.frame: 6 × 2\n",
       "\\begin{tabular}{r|ll}\n",
       "  & ds & holiday\\\\\n",
       "  & <date> & <dbl>\\\\\n",
       "\\hline\n",
       "\t1456 & 2016-12-26 & 1\\\\\n",
       "\t1457 & 2016-12-27 & 0\\\\\n",
       "\t1458 & 2016-12-28 & 0\\\\\n",
       "\t1459 & 2016-12-29 & 0\\\\\n",
       "\t1460 & 2016-12-30 & 0\\\\\n",
       "\t1461 & 2016-12-31 & 1\\\\\n",
       "\\end{tabular}\n"
      ],
      "text/markdown": [
       "\n",
       "A data.frame: 6 × 2\n",
       "\n",
       "| <!--/--> | ds &lt;date&gt; | holiday &lt;dbl&gt; |\n",
       "|---|---|---|\n",
       "| 1456 | 2016-12-26 | 1 |\n",
       "| 1457 | 2016-12-27 | 0 |\n",
       "| 1458 | 2016-12-28 | 0 |\n",
       "| 1459 | 2016-12-29 | 0 |\n",
       "| 1460 | 2016-12-30 | 0 |\n",
       "| 1461 | 2016-12-31 | 1 |\n",
       "\n"
      ],
      "text/plain": [
       "     ds         holiday\n",
       "1456 2016-12-26 1      \n",
       "1457 2016-12-27 0      \n",
       "1458 2016-12-28 0      \n",
       "1459 2016-12-29 0      \n",
       "1460 2016-12-30 0      \n",
       "1461 2016-12-31 1      "
      ]
     },
     "metadata": {},
     "output_type": "display_data"
    }
   ],
   "source": [
    "holidays_2 <- data.frame(holidays_1$ds,holidays_1$holiday)\n",
    "colnames(holidays_2) <- c('ds','holiday')\n",
    "tail(holidays_2)"
   ]
  },
  {
   "cell_type": "code",
   "execution_count": 14,
   "id": "de7e3d80",
   "metadata": {
    "execution": {
     "iopub.execute_input": "2022-11-22T23:07:00.261216Z",
     "iopub.status.busy": "2022-11-22T23:07:00.259386Z",
     "iopub.status.idle": "2022-11-22T23:07:00.681748Z",
     "shell.execute_reply": "2022-11-22T23:07:00.679558Z"
    },
    "papermill": {
     "duration": 0.443376,
     "end_time": "2022-11-22T23:07:00.684568",
     "exception": false,
     "start_time": "2022-11-22T23:07:00.241192",
     "status": "completed"
    },
    "tags": []
   },
   "outputs": [
    {
     "name": "stderr",
     "output_type": "stream",
     "text": [
      "Warning message in guerrero(x, lower, upper):\n",
      "“Guerrero's method for selecting a Box-Cox parameter (lambda) is given for strictly positive data.”\n"
     ]
    }
   ],
   "source": [
    "holidays_1$y<-tsclean(holidays_1$y, replace.missing = TRUE, iterate = 10, lambda = \"auto\")"
   ]
  },
  {
   "cell_type": "markdown",
   "id": "e6febee3",
   "metadata": {
    "papermill": {
     "duration": 0.015213,
     "end_time": "2022-11-22T23:07:00.714765",
     "exception": false,
     "start_time": "2022-11-22T23:07:00.699552",
     "status": "completed"
    },
    "tags": []
   },
   "source": [
    "# 6. EDA"
   ]
  },
  {
   "cell_type": "code",
   "execution_count": 15,
   "id": "9842963b",
   "metadata": {
    "execution": {
     "iopub.execute_input": "2022-11-22T23:07:00.748742Z",
     "iopub.status.busy": "2022-11-22T23:07:00.746841Z",
     "iopub.status.idle": "2022-11-22T23:07:01.079331Z",
     "shell.execute_reply": "2022-11-22T23:07:01.077237Z"
    },
    "papermill": {
     "duration": 0.352383,
     "end_time": "2022-11-22T23:07:01.082025",
     "exception": false,
     "start_time": "2022-11-22T23:07:00.729642",
     "status": "completed"
    },
    "tags": []
   },
   "outputs": [
    {
     "data": {
      "image/png": "[encoded data removed]"
     },
     "metadata": {
      "image/png": {
       "height": 420,
       "width": 420
      }
     },
     "output_type": "display_data"
    }
   ],
   "source": [
    "hist(train$transactions, breaks=100, col=\"red\")"
   ]
  },
  {
   "cell_type": "code",
   "execution_count": 16,
   "id": "c3211663",
   "metadata": {
    "execution": {
     "iopub.execute_input": "2022-11-22T23:07:01.118079Z",
     "iopub.status.busy": "2022-11-22T23:07:01.116245Z",
     "iopub.status.idle": "2022-11-22T23:07:01.173992Z",
     "shell.execute_reply": "2022-11-22T23:07:01.171496Z"
    },
    "papermill": {
     "duration": 0.079517,
     "end_time": "2022-11-22T23:07:01.177586",
     "exception": false,
     "start_time": "2022-11-22T23:07:01.098069",
     "status": "completed"
    },
    "tags": []
   },
   "outputs": [
    {
     "name": "stderr",
     "output_type": "stream",
     "text": [
      "Warning message in adf.test(diff(train$transactions), alternative = \"stationary\", :\n",
      "“p-value smaller than printed p-value”\n"
     ]
    },
    {
     "data": {
      "text/plain": [
       "\n",
       "\tAugmented Dickey-Fuller Test\n",
       "\n",
       "data:  diff(train$transactions)\n",
       "Dickey-Fuller = -53.794, Lag order = 0, p-value = 0.01\n",
       "alternative hypothesis: stationary\n"
      ]
     },
     "metadata": {},
     "output_type": "display_data"
    }
   ],
   "source": [
    "adf.test(diff(train$transactions), alternative=\"stationary\", k=0)"
   ]
  },
  {
   "cell_type": "code",
   "execution_count": 17,
   "id": "97240084",
   "metadata": {
    "execution": {
     "iopub.execute_input": "2022-11-22T23:07:01.214299Z",
     "iopub.status.busy": "2022-11-22T23:07:01.212395Z",
     "iopub.status.idle": "2022-11-22T23:07:01.375047Z",
     "shell.execute_reply": "2022-11-22T23:07:01.371252Z"
    },
    "papermill": {
     "duration": 0.185857,
     "end_time": "2022-11-22T23:07:01.379623",
     "exception": false,
     "start_time": "2022-11-22T23:07:01.193766",
     "status": "completed"
    },
    "tags": []
   },
   "outputs": [
    {
     "data": {
      "image/png": "[encoded data removed]"
     },
     "metadata": {
      "image/png": {
       "height": 420,
       "width": 420
      }
     },
     "output_type": "display_data"
    }
   ],
   "source": [
    "plot(holidays_1$ds,holidays_1$y, type = \"s\")"
   ]
  },
  {
   "cell_type": "code",
   "execution_count": 18,
   "id": "69e228cc",
   "metadata": {
    "execution": {
     "iopub.execute_input": "2022-11-22T23:07:01.417345Z",
     "iopub.status.busy": "2022-11-22T23:07:01.415479Z",
     "iopub.status.idle": "2022-11-22T23:07:01.528817Z",
     "shell.execute_reply": "2022-11-22T23:07:01.526565Z"
    },
    "papermill": {
     "duration": 0.135299,
     "end_time": "2022-11-22T23:07:01.531781",
     "exception": false,
     "start_time": "2022-11-22T23:07:01.396482",
     "status": "completed"
    },
    "tags": []
   },
   "outputs": [
    {
     "data": {
      "image/png": "[encoded data removed]"
     },
     "metadata": {
      "image/png": {
       "height": 420,
       "width": 420
      }
     },
     "output_type": "display_data"
    }
   ],
   "source": [
    "acf(train$transactions)"
   ]
  },
  {
   "cell_type": "code",
   "execution_count": 19,
   "id": "c5cfa1b3",
   "metadata": {
    "execution": {
     "iopub.execute_input": "2022-11-22T23:07:01.571699Z",
     "iopub.status.busy": "2022-11-22T23:07:01.569908Z",
     "iopub.status.idle": "2022-11-22T23:07:01.677127Z",
     "shell.execute_reply": "2022-11-22T23:07:01.674962Z"
    },
    "papermill": {
     "duration": 0.130583,
     "end_time": "2022-11-22T23:07:01.679772",
     "exception": false,
     "start_time": "2022-11-22T23:07:01.549189",
     "status": "completed"
    },
    "tags": []
   },
   "outputs": [
    {
     "data": {
      "image/png": "[encoded data removed]"
     },
     "metadata": {
      "image/png": {
       "height": 420,
       "width": 420
      }
     },
     "output_type": "display_data"
    }
   ],
   "source": [
    "acf(diff(train$transactions))"
   ]
  },
  {
   "cell_type": "code",
   "execution_count": 20,
   "id": "55cc6688",
   "metadata": {
    "execution": {
     "iopub.execute_input": "2022-11-22T23:07:01.720895Z",
     "iopub.status.busy": "2022-11-22T23:07:01.718969Z",
     "iopub.status.idle": "2022-11-22T23:07:01.814247Z",
     "shell.execute_reply": "2022-11-22T23:07:01.812082Z"
    },
    "papermill": {
     "duration": 0.118376,
     "end_time": "2022-11-22T23:07:01.816919",
     "exception": false,
     "start_time": "2022-11-22T23:07:01.698543",
     "status": "completed"
    },
    "tags": []
   },
   "outputs": [
    {
     "data": {
      "image/png": "[encoded data removed]"
     },
     "metadata": {
      "image/png": {
       "height": 420,
       "width": 420
      }
     },
     "output_type": "display_data"
    }
   ],
   "source": [
    "pacf(diff(train$transactions))"
   ]
  },
  {
   "cell_type": "markdown",
   "id": "9222c14d",
   "metadata": {
    "papermill": {
     "duration": 0.019048,
     "end_time": "2022-11-22T23:07:01.854459",
     "exception": false,
     "start_time": "2022-11-22T23:07:01.835411",
     "status": "completed"
    },
    "tags": []
   },
   "source": [
    "# 7. Building Prophet Forecasting Model"
   ]
  },
  {
   "cell_type": "code",
   "execution_count": 21,
   "id": "e07927bb",
   "metadata": {
    "execution": {
     "iopub.execute_input": "2022-11-22T23:07:01.895396Z",
     "iopub.status.busy": "2022-11-22T23:07:01.893479Z",
     "iopub.status.idle": "2022-11-22T23:07:01.974230Z",
     "shell.execute_reply": "2022-11-22T23:07:01.972168Z"
    },
    "papermill": {
     "duration": 0.104137,
     "end_time": "2022-11-22T23:07:01.976886",
     "exception": false,
     "start_time": "2022-11-22T23:07:01.872749",
     "status": "completed"
    },
    "tags": []
   },
   "outputs": [
    {
     "data": {
      "text/html": [
       "<style>\n",
       ".dl-inline {width: auto; margin:0; padding: 0}\n",
       ".dl-inline>dt, .dl-inline>dd {float: none; width: auto; display: inline-block}\n",
       ".dl-inline>dt::after {content: \":\\0020\"; padding-right: .5ex}\n",
       ".dl-inline>dt:not(:first-of-type) {padding-left: .5ex}\n",
       "</style><dl class=dl-inline><dt>ds</dt><dd>0</dd><dt>holiday</dt><dd>1549</dd></dl>\n"
      ],
      "text/latex": [
       "\\begin{description*}\n",
       "\\item[ds] 0\n",
       "\\item[holiday] 1549\n",
       "\\end{description*}\n"
      ],
      "text/markdown": [
       "ds\n",
       ":   0holiday\n",
       ":   1549\n",
       "\n"
      ],
      "text/plain": [
       "     ds holiday \n",
       "      0    1549 "
      ]
     },
     "metadata": {},
     "output_type": "display_data"
    },
    {
     "data": {
      "text/html": [
       "<style>\n",
       ".dl-inline {width: auto; margin:0; padding: 0}\n",
       ".dl-inline>dt, .dl-inline>dd {float: none; width: auto; display: inline-block}\n",
       ".dl-inline>dt::after {content: \":\\0020\"; padding-right: .5ex}\n",
       ".dl-inline>dt:not(:first-of-type) {padding-left: .5ex}\n",
       "</style><dl class=dl-inline><dt>ds</dt><dd>0</dd><dt>holiday</dt><dd>0</dd></dl>\n"
      ],
      "text/latex": [
       "\\begin{description*}\n",
       "\\item[ds] 0\n",
       "\\item[holiday] 0\n",
       "\\end{description*}\n"
      ],
      "text/markdown": [
       "ds\n",
       ":   0holiday\n",
       ":   0\n",
       "\n"
      ],
      "text/plain": [
       "     ds holiday \n",
       "      0       0 "
      ]
     },
     "metadata": {},
     "output_type": "display_data"
    },
    {
     "data": {
      "text/html": [
       "<table class=\"dataframe\">\n",
       "<caption>A data.frame: 6 × 2</caption>\n",
       "<thead>\n",
       "\t<tr><th></th><th scope=col>ds</th><th scope=col>holiday</th></tr>\n",
       "\t<tr><th></th><th scope=col>&lt;date&gt;</th><th scope=col>&lt;dbl&gt;</th></tr>\n",
       "</thead>\n",
       "<tbody>\n",
       "\t<tr><th scope=row>1</th><td>2013-01-01</td><td>1</td></tr>\n",
       "\t<tr><th scope=row>2</th><td>2013-01-02</td><td>0</td></tr>\n",
       "\t<tr><th scope=row>3</th><td>2013-01-03</td><td>0</td></tr>\n",
       "\t<tr><th scope=row>4</th><td>2013-01-04</td><td>0</td></tr>\n",
       "\t<tr><th scope=row>5</th><td>2013-01-05</td><td>1</td></tr>\n",
       "\t<tr><th scope=row>6</th><td>2013-01-06</td><td>0</td></tr>\n",
       "</tbody>\n",
       "</table>\n"
      ],
      "text/latex": [
       "A data.frame: 6 × 2\n",
       "\\begin{tabular}{r|ll}\n",
       "  & ds & holiday\\\\\n",
       "  & <date> & <dbl>\\\\\n",
       "\\hline\n",
       "\t1 & 2013-01-01 & 1\\\\\n",
       "\t2 & 2013-01-02 & 0\\\\\n",
       "\t3 & 2013-01-03 & 0\\\\\n",
       "\t4 & 2013-01-04 & 0\\\\\n",
       "\t5 & 2013-01-05 & 1\\\\\n",
       "\t6 & 2013-01-06 & 0\\\\\n",
       "\\end{tabular}\n"
      ],
      "text/markdown": [
       "\n",
       "A data.frame: 6 × 2\n",
       "\n",
       "| <!--/--> | ds &lt;date&gt; | holiday &lt;dbl&gt; |\n",
       "|---|---|---|\n",
       "| 1 | 2013-01-01 | 1 |\n",
       "| 2 | 2013-01-02 | 0 |\n",
       "| 3 | 2013-01-03 | 0 |\n",
       "| 4 | 2013-01-04 | 0 |\n",
       "| 5 | 2013-01-05 | 1 |\n",
       "| 6 | 2013-01-06 | 0 |\n",
       "\n"
      ],
      "text/plain": [
       "  ds         holiday\n",
       "1 2013-01-01 1      \n",
       "2 2013-01-02 0      \n",
       "3 2013-01-03 0      \n",
       "4 2013-01-04 0      \n",
       "5 2013-01-05 1      \n",
       "6 2013-01-06 0      "
      ]
     },
     "metadata": {},
     "output_type": "display_data"
    },
    {
     "data": {
      "text/html": [
       "<table class=\"dataframe\">\n",
       "<caption>A data.frame: 6 × 2</caption>\n",
       "<thead>\n",
       "\t<tr><th></th><th scope=col>ds</th><th scope=col>holiday</th></tr>\n",
       "\t<tr><th></th><th scope=col>&lt;date&gt;</th><th scope=col>&lt;dbl&gt;</th></tr>\n",
       "</thead>\n",
       "<tbody>\n",
       "\t<tr><th scope=row>1821</th><td>2017-12-26</td><td>1</td></tr>\n",
       "\t<tr><th scope=row>1822</th><td>2017-12-27</td><td>0</td></tr>\n",
       "\t<tr><th scope=row>1823</th><td>2017-12-28</td><td>0</td></tr>\n",
       "\t<tr><th scope=row>1824</th><td>2017-12-29</td><td>0</td></tr>\n",
       "\t<tr><th scope=row>1825</th><td>2017-12-30</td><td>0</td></tr>\n",
       "\t<tr><th scope=row>1826</th><td>2017-12-31</td><td>0</td></tr>\n",
       "</tbody>\n",
       "</table>\n"
      ],
      "text/latex": [
       "A data.frame: 6 × 2\n",
       "\\begin{tabular}{r|ll}\n",
       "  & ds & holiday\\\\\n",
       "  & <date> & <dbl>\\\\\n",
       "\\hline\n",
       "\t1821 & 2017-12-26 & 1\\\\\n",
       "\t1822 & 2017-12-27 & 0\\\\\n",
       "\t1823 & 2017-12-28 & 0\\\\\n",
       "\t1824 & 2017-12-29 & 0\\\\\n",
       "\t1825 & 2017-12-30 & 0\\\\\n",
       "\t1826 & 2017-12-31 & 0\\\\\n",
       "\\end{tabular}\n"
      ],
      "text/markdown": [
       "\n",
       "A data.frame: 6 × 2\n",
       "\n",
       "| <!--/--> | ds &lt;date&gt; | holiday &lt;dbl&gt; |\n",
       "|---|---|---|\n",
       "| 1821 | 2017-12-26 | 1 |\n",
       "| 1822 | 2017-12-27 | 0 |\n",
       "| 1823 | 2017-12-28 | 0 |\n",
       "| 1824 | 2017-12-29 | 0 |\n",
       "| 1825 | 2017-12-30 | 0 |\n",
       "| 1826 | 2017-12-31 | 0 |\n",
       "\n"
      ],
      "text/plain": [
       "     ds         holiday\n",
       "1821 2017-12-26 1      \n",
       "1822 2017-12-27 0      \n",
       "1823 2017-12-28 0      \n",
       "1824 2017-12-29 0      \n",
       "1825 2017-12-30 0      \n",
       "1826 2017-12-31 0      "
      ]
     },
     "metadata": {},
     "output_type": "display_data"
    }
   ],
   "source": [
    "date_range1 <- seq(as.Date(\"2013/01/01\"), by = \"day\", length.out = 1826)\n",
    "date_range1_DF <- data.frame(date_range1,as.integer(0))\n",
    "colnames(date_range1_DF) <- c('date','holiday')\n",
    "holidays_till_2017 <- left_join(date_range1_DF,holidays,by='date')\n",
    "holidays2_till_2017 <- data.frame(holidays_till_2017$date,holidays_till_2017$holiday.y)\n",
    "colnames(holidays2_till_2017) <- c('ds','holiday')\n",
    "colSums(is.na(holidays2_till_2017))\n",
    "holidays2_till_2017$holiday[is.na(holidays2_till_2017$holiday)] <- 0\n",
    "colSums(is.na(holidays2_till_2017))\n",
    "head(holidays2_till_2017)\n",
    "tail(holidays2_till_2017)"
   ]
  },
  {
   "cell_type": "code",
   "execution_count": 22,
   "id": "ff2d027d",
   "metadata": {
    "execution": {
     "iopub.execute_input": "2022-11-22T23:07:02.020327Z",
     "iopub.status.busy": "2022-11-22T23:07:02.018349Z",
     "iopub.status.idle": "2022-11-22T23:07:02.039201Z",
     "shell.execute_reply": "2022-11-22T23:07:02.036946Z"
    },
    "papermill": {
     "duration": 0.046097,
     "end_time": "2022-11-22T23:07:02.041971",
     "exception": false,
     "start_time": "2022-11-22T23:07:01.995874",
     "status": "completed"
    },
    "tags": []
   },
   "outputs": [],
   "source": [
    "m = prophet(changepoint.prior.scale = 0.1,seasonality.prior.scale=1)\n",
    "m <- add_seasonality(m, name='monthly', period=30.5, fourier.order=5)"
   ]
  },
  {
   "cell_type": "code",
   "execution_count": 23,
   "id": "26b2cc44",
   "metadata": {
    "execution": {
     "iopub.execute_input": "2022-11-22T23:07:02.084599Z",
     "iopub.status.busy": "2022-11-22T23:07:02.082612Z",
     "iopub.status.idle": "2022-11-22T23:07:04.266816Z",
     "shell.execute_reply": "2022-11-22T23:07:04.264560Z"
    },
    "papermill": {
     "duration": 2.208547,
     "end_time": "2022-11-22T23:07:04.269540",
     "exception": false,
     "start_time": "2022-11-22T23:07:02.060993",
     "status": "completed"
    },
    "tags": []
   },
   "outputs": [
    {
     "name": "stderr",
     "output_type": "stream",
     "text": [
      "Disabling daily seasonality. Run prophet with daily.seasonality=TRUE to override this.\n",
      "\n"
     ]
    }
   ],
   "source": [
    "m = add_regressor(m,'holiday',standardize = FALSE)\n",
    "m = fit.prophet(m, df = holidays_1)"
   ]
  },
  {
   "cell_type": "markdown",
   "id": "13f22563",
   "metadata": {
    "papermill": {
     "duration": 0.01972,
     "end_time": "2022-11-22T23:07:04.308311",
     "exception": false,
     "start_time": "2022-11-22T23:07:04.288591",
     "status": "completed"
    },
    "tags": []
   },
   "source": [
    "# 8. Forecasting"
   ]
  },
  {
   "cell_type": "code",
   "execution_count": 24,
   "id": "abc187c5",
   "metadata": {
    "execution": {
     "iopub.execute_input": "2022-11-22T23:07:04.387911Z",
     "iopub.status.busy": "2022-11-22T23:07:04.385531Z",
     "iopub.status.idle": "2022-11-22T23:07:20.335591Z",
     "shell.execute_reply": "2022-11-22T23:07:20.333373Z"
    },
    "papermill": {
     "duration": 15.976363,
     "end_time": "2022-11-22T23:07:20.340524",
     "exception": false,
     "start_time": "2022-11-22T23:07:04.364161",
     "status": "completed"
    },
    "tags": []
   },
   "outputs": [
    {
     "data": {
      "image/png": "[encoded data removed]"
     },
     "metadata": {
      "image/png": {
       "height": 420,
       "width": 420
      }
     },
     "output_type": "display_data"
    }
   ],
   "source": [
    "future <- make_future_dataframe(m, periods = 365,include_history = TRUE)\n",
    "future$holiday <- holidays2_till_2017$holiday\n",
    "forecast <- predict(m, future)\n",
    "plot(m, forecast)"
   ]
  },
  {
   "cell_type": "code",
   "execution_count": 25,
   "id": "9fc2bc4d",
   "metadata": {
    "execution": {
     "iopub.execute_input": "2022-11-22T23:07:20.396869Z",
     "iopub.status.busy": "2022-11-22T23:07:20.395164Z",
     "iopub.status.idle": "2022-11-22T23:07:23.263673Z",
     "shell.execute_reply": "2022-11-22T23:07:23.261385Z"
    },
    "papermill": {
     "duration": 2.896654,
     "end_time": "2022-11-22T23:07:23.267008",
     "exception": false,
     "start_time": "2022-11-22T23:07:20.370354",
     "status": "completed"
    },
    "tags": []
   },
   "outputs": [
    {
     "data": {
      "image/png": "[encoded data removed]"
     },
     "metadata": {
      "image/png": {
       "height": 420,
       "width": 420
      }
     },
     "output_type": "display_data"
    }
   ],
   "source": [
    "prophet_plot_components(m, forecast)"
   ]
  },
  {
   "cell_type": "code",
   "execution_count": 26,
   "id": "7ad963a9",
   "metadata": {
    "execution": {
     "iopub.execute_input": "2022-11-22T23:07:23.318820Z",
     "iopub.status.busy": "2022-11-22T23:07:23.317006Z",
     "iopub.status.idle": "2022-11-22T23:07:23.334174Z",
     "shell.execute_reply": "2022-11-22T23:07:23.332082Z"
    },
    "papermill": {
     "duration": 0.045901,
     "end_time": "2022-11-22T23:07:23.337107",
     "exception": false,
     "start_time": "2022-11-22T23:07:23.291206",
     "status": "completed"
    },
    "tags": []
   },
   "outputs": [],
   "source": [
    "predict <- data.frame(forecast$ds,forecast$yhat)"
   ]
  },
  {
   "cell_type": "markdown",
   "id": "b16f4fb2",
   "metadata": {
    "papermill": {
     "duration": 0.023859,
     "end_time": "2022-11-22T23:07:23.384632",
     "exception": false,
     "start_time": "2022-11-22T23:07:23.360773",
     "status": "completed"
    },
    "tags": []
   },
   "source": [
    "# 9. Evaluation"
   ]
  },
  {
   "cell_type": "code",
   "execution_count": 27,
   "id": "f457c5f7",
   "metadata": {
    "execution": {
     "iopub.execute_input": "2022-11-22T23:07:23.436269Z",
     "iopub.status.busy": "2022-11-22T23:07:23.434453Z",
     "iopub.status.idle": "2022-11-22T23:07:23.505753Z",
     "shell.execute_reply": "2022-11-22T23:07:23.503653Z"
    },
    "papermill": {
     "duration": 0.099793,
     "end_time": "2022-11-22T23:07:23.508582",
     "exception": false,
     "start_time": "2022-11-22T23:07:23.408789",
     "status": "completed"
    },
    "tags": []
   },
   "outputs": [
    {
     "name": "stderr",
     "output_type": "stream",
     "text": [
      "Warning message in base::check_tzones(e1, e2):\n",
      "“'tzone' attributes are inconsistent”\n",
      "Warning message in base::check_tzones(e1, e2):\n",
      "“'tzone' attributes are inconsistent”\n"
     ]
    }
   ],
   "source": [
    "yhat_org <- predict %>% filter(forecast.ds >= as.Date(\"2013-01-01\") & forecast.ds < as.Date(\"2017-01-01\"))\n",
    "compare <- data.frame(holidays_1$y,yhat_org$forecast.yhat)\n",
    "colnames(compare) <- c(\"Actual Values\", \"forecasted Values\")\n",
    "res <- holidays_1$y - yhat_org$forecast.yhat"
   ]
  },
  {
   "cell_type": "markdown",
   "id": "cf31bd8b",
   "metadata": {
    "papermill": {
     "duration": 0.024341,
     "end_time": "2022-11-22T23:07:23.556658",
     "exception": false,
     "start_time": "2022-11-22T23:07:23.532317",
     "status": "completed"
    },
    "tags": []
   },
   "source": [
    "Checking Normality"
   ]
  },
  {
   "cell_type": "code",
   "execution_count": 28,
   "id": "eba96e20",
   "metadata": {
    "execution": {
     "iopub.execute_input": "2022-11-22T23:07:23.608117Z",
     "iopub.status.busy": "2022-11-22T23:07:23.606335Z",
     "iopub.status.idle": "2022-11-22T23:07:23.638466Z",
     "shell.execute_reply": "2022-11-22T23:07:23.636528Z"
    },
    "papermill": {
     "duration": 0.061584,
     "end_time": "2022-11-22T23:07:23.641201",
     "exception": false,
     "start_time": "2022-11-22T23:07:23.579617",
     "status": "completed"
    },
    "tags": []
   },
   "outputs": [
    {
     "data": {
      "text/plain": [
       "\n",
       "\tBox-Ljung test\n",
       "\n",
       "data:  res\n",
       "X-squared = 86.358, df = 1, p-value < 2.2e-16\n"
      ]
     },
     "metadata": {},
     "output_type": "display_data"
    }
   ],
   "source": [
    "Box.test(res, type = \"Ljung-Box\")"
   ]
  },
  {
   "cell_type": "code",
   "execution_count": 29,
   "id": "1588094c",
   "metadata": {
    "execution": {
     "iopub.execute_input": "2022-11-22T23:07:23.692748Z",
     "iopub.status.busy": "2022-11-22T23:07:23.690975Z",
     "iopub.status.idle": "2022-11-22T23:07:23.715942Z",
     "shell.execute_reply": "2022-11-22T23:07:23.714038Z"
    },
    "papermill": {
     "duration": 0.053932,
     "end_time": "2022-11-22T23:07:23.718633",
     "exception": false,
     "start_time": "2022-11-22T23:07:23.664701",
     "status": "completed"
    },
    "tags": []
   },
   "outputs": [
    {
     "data": {
      "text/html": [
       "7740.01186088808"
      ],
      "text/latex": [
       "7740.01186088808"
      ],
      "text/markdown": [
       "7740.01186088808"
      ],
      "text/plain": [
       "[1] 7740.012"
      ]
     },
     "metadata": {},
     "output_type": "display_data"
    }
   ],
   "source": [
    "sq_error<- (holidays_1$y - yhat_org$forecast.yhat)^2\n",
    "MSE <- mean(sq_error)\n",
    "RMSE <- sqrt(MSE)\n",
    "RMSE"
   ]
  },
  {
   "cell_type": "markdown",
   "id": "947e8dca",
   "metadata": {
    "papermill": {
     "duration": 0.024076,
     "end_time": "2022-11-22T23:07:23.766417",
     "exception": false,
     "start_time": "2022-11-22T23:07:23.742341",
     "status": "completed"
    },
    "tags": []
   },
   "source": [
    "# 10. Creating Submission File"
   ]
  },
  {
   "cell_type": "code",
   "execution_count": 30,
   "id": "5c500e47",
   "metadata": {
    "execution": {
     "iopub.execute_input": "2022-11-22T23:07:23.818616Z",
     "iopub.status.busy": "2022-11-22T23:07:23.816858Z",
     "iopub.status.idle": "2022-11-22T23:07:23.892264Z",
     "shell.execute_reply": "2022-11-22T23:07:23.890047Z"
    },
    "papermill": {
     "duration": 0.104523,
     "end_time": "2022-11-22T23:07:23.894883",
     "exception": false,
     "start_time": "2022-11-22T23:07:23.790360",
     "status": "completed"
    },
    "tags": []
   },
   "outputs": [
    {
     "name": "stderr",
     "output_type": "stream",
     "text": [
      "Warning message in base::check_tzones(e1, e2):\n",
      "“'tzone' attributes are inconsistent”\n",
      "Warning message in base::check_tzones(e1, e2):\n",
      "“'tzone' attributes are inconsistent”\n"
     ]
    }
   ],
   "source": [
    "prediction_final <- predict %>% filter(forecast.ds >= as.Date(\"2017-01-01\") & forecast.ds < as.Date(\"2017-08-16\"))\n",
    "colnames(prediction_final) <- c(\"date\", \"forecast.yhat\")\n",
    "prediction_final$forecast.yhat <- round(prediction_final$forecast.yhat,0)\n",
    "test$date<-as.Date(test$date, format=\"%d-%m-%Y\")\n",
    "prediction_final_id <- left_join(test,prediction_final, by='date')"
   ]
  },
  {
   "cell_type": "code",
   "execution_count": 31,
   "id": "5a3ba561",
   "metadata": {
    "execution": {
     "iopub.execute_input": "2022-11-22T23:07:23.946545Z",
     "iopub.status.busy": "2022-11-22T23:07:23.944608Z",
     "iopub.status.idle": "2022-11-22T23:07:23.998339Z",
     "shell.execute_reply": "2022-11-22T23:07:23.996126Z"
    },
    "papermill": {
     "duration": 0.082976,
     "end_time": "2022-11-22T23:07:24.001124",
     "exception": false,
     "start_time": "2022-11-22T23:07:23.918148",
     "status": "completed"
    },
    "tags": []
   },
   "outputs": [
    {
     "data": {
      "text/html": [
       "<table class=\"dataframe\">\n",
       "<caption>A data.frame: 6 × 2</caption>\n",
       "<thead>\n",
       "\t<tr><th></th><th scope=col>id</th><th scope=col>transactions</th></tr>\n",
       "\t<tr><th></th><th scope=col>&lt;int&gt;</th><th scope=col>&lt;dbl&gt;</th></tr>\n",
       "</thead>\n",
       "<tbody>\n",
       "\t<tr><th scope=row>1</th><td>0</td><td> 1433</td></tr>\n",
       "\t<tr><th scope=row>2</th><td>1</td><td>91277</td></tr>\n",
       "\t<tr><th scope=row>3</th><td>2</td><td>87136</td></tr>\n",
       "\t<tr><th scope=row>4</th><td>3</td><td>86635</td></tr>\n",
       "\t<tr><th scope=row>5</th><td>4</td><td>82890</td></tr>\n",
       "\t<tr><th scope=row>6</th><td>5</td><td>86919</td></tr>\n",
       "</tbody>\n",
       "</table>\n"
      ],
      "text/latex": [
       "A data.frame: 6 × 2\n",
       "\\begin{tabular}{r|ll}\n",
       "  & id & transactions\\\\\n",
       "  & <int> & <dbl>\\\\\n",
       "\\hline\n",
       "\t1 & 0 &  1433\\\\\n",
       "\t2 & 1 & 91277\\\\\n",
       "\t3 & 2 & 87136\\\\\n",
       "\t4 & 3 & 86635\\\\\n",
       "\t5 & 4 & 82890\\\\\n",
       "\t6 & 5 & 86919\\\\\n",
       "\\end{tabular}\n"
      ],
      "text/markdown": [
       "\n",
       "A data.frame: 6 × 2\n",
       "\n",
       "| <!--/--> | id &lt;int&gt; | transactions &lt;dbl&gt; |\n",
       "|---|---|---|\n",
       "| 1 | 0 |  1433 |\n",
       "| 2 | 1 | 91277 |\n",
       "| 3 | 2 | 87136 |\n",
       "| 4 | 3 | 86635 |\n",
       "| 5 | 4 | 82890 |\n",
       "| 6 | 5 | 86919 |\n",
       "\n"
      ],
      "text/plain": [
       "  id transactions\n",
       "1 0   1433       \n",
       "2 1  91277       \n",
       "3 2  87136       \n",
       "4 3  86635       \n",
       "5 4  82890       \n",
       "6 5  86919       "
      ]
     },
     "metadata": {},
     "output_type": "display_data"
    },
    {
     "data": {
      "text/html": [
       "<table class=\"dataframe\">\n",
       "<caption>A data.frame: 6 × 2</caption>\n",
       "<thead>\n",
       "\t<tr><th></th><th scope=col>id</th><th scope=col>transactions</th></tr>\n",
       "\t<tr><th></th><th scope=col>&lt;int&gt;</th><th scope=col>&lt;dbl&gt;</th></tr>\n",
       "</thead>\n",
       "<tbody>\n",
       "\t<tr><th scope=row>222</th><td>221</td><td> 81486</td></tr>\n",
       "\t<tr><th scope=row>223</th><td>222</td><td> 85606</td></tr>\n",
       "\t<tr><th scope=row>224</th><td>223</td><td>100294</td></tr>\n",
       "\t<tr><th scope=row>225</th><td>224</td><td> 95345</td></tr>\n",
       "\t<tr><th scope=row>226</th><td>225</td><td> 84067</td></tr>\n",
       "\t<tr><th scope=row>227</th><td>226</td><td> 82498</td></tr>\n",
       "</tbody>\n",
       "</table>\n"
      ],
      "text/latex": [
       "A data.frame: 6 × 2\n",
       "\\begin{tabular}{r|ll}\n",
       "  & id & transactions\\\\\n",
       "  & <int> & <dbl>\\\\\n",
       "\\hline\n",
       "\t222 & 221 &  81486\\\\\n",
       "\t223 & 222 &  85606\\\\\n",
       "\t224 & 223 & 100294\\\\\n",
       "\t225 & 224 &  95345\\\\\n",
       "\t226 & 225 &  84067\\\\\n",
       "\t227 & 226 &  82498\\\\\n",
       "\\end{tabular}\n"
      ],
      "text/markdown": [
       "\n",
       "A data.frame: 6 × 2\n",
       "\n",
       "| <!--/--> | id &lt;int&gt; | transactions &lt;dbl&gt; |\n",
       "|---|---|---|\n",
       "| 222 | 221 |  81486 |\n",
       "| 223 | 222 |  85606 |\n",
       "| 224 | 223 | 100294 |\n",
       "| 225 | 224 |  95345 |\n",
       "| 226 | 225 |  84067 |\n",
       "| 227 | 226 |  82498 |\n",
       "\n"
      ],
      "text/plain": [
       "    id  transactions\n",
       "222 221  81486      \n",
       "223 222  85606      \n",
       "224 223 100294      \n",
       "225 224  95345      \n",
       "226 225  84067      \n",
       "227 226  82498      "
      ]
     },
     "metadata": {},
     "output_type": "display_data"
    }
   ],
   "source": [
    "submission <- data.frame(prediction_final_id$id,prediction_final_id$forecast.yhat)\n",
    "colnames(submission) <- c(\"id\", \"transactions\")\n",
    "submission$transactions[submission$id == '0'] <- 1433\n",
    "head(submission)\n",
    "tail(submission)\n",
    "write.csv(submission,\"submission.csv\", row.names = FALSE, na = '0')"
   ]
  }
 ],
 "metadata": {
  "kernelspec": {
   "display_name": "R",
   "language": "R",
   "name": "ir"
  },
  "language_info": {
   "codemirror_mode": "r",
   "file_extension": ".r",
   "mimetype": "text/x-r-source",
   "name": "R",
   "pygments_lexer": "r",
   "version": "4.0.5"
  },
  "papermill": {
   "default_parameters": {},
   "duration": 31.759303,
   "end_time": "2022-11-22T23:07:24.148913",
   "environment_variables": {},
   "exception": null,
   "input_path": "__notebook__.ipynb",
   "output_path": "__notebook__.ipynb",
   "parameters": {},
   "start_time": "2022-11-22T23:06:52.389610",
   "version": "2.4.0"
  }
 },
 "nbformat": 4,
 "nbformat_minor": 5
}
